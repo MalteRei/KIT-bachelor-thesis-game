{
 "cells": [
  {
   "cell_type": "code",
   "execution_count": 84,
   "metadata": {},
   "outputs": [],
   "source": [
    "import pandas as pd\n",
    "import matplotlib.pyplot as plt\n",
    "from scipy.stats import wilcoxon, ttest_rel, pearsonr\n",
    "from PlotLikertOverConditions import *"
   ]
  },
  {
   "cell_type": "markdown",
   "metadata": {},
   "source": [
    "## Helper Functions"
   ]
  },
  {
   "cell_type": "code",
   "execution_count": 85,
   "metadata": {},
   "outputs": [],
   "source": [
    "def birthday_to_age(birthdays_data_frame):\n",
    "    year_to_subtract = (birthdays_data_frame['reference'].month, birthdays_data_frame['reference'].day) < (birthdays_data_frame['born'].month, birthdays_data_frame['born'].day)\n",
    "    years = birthdays_data_frame['reference'].year - birthdays_data_frame['born'].year\n",
    "    \n",
    "    return  years - (year_to_subtract)"
   ]
  },
  {
   "cell_type": "code",
   "execution_count": 86,
   "metadata": {},
   "outputs": [],
   "source": [
    "sus_questions = [\"Ich denke, dass ich das System gerne häufig benutzen würde.\",\"Ich fand das System unnötig komplex.\",\"Ich fand das System einfach zu benutzen.\",\"Ich glaube, ich würde die Hilfe einer technisch versierten Person benötigen, um das System benutzen zu können.\",\n",
    "\"Ich fand, die verschiedenen Funktionen in diesem System waren gut integriert.\",\"Ich denke, das System enthielt zu viele Inkonsistenzen.\", \"Ich kann mir vorstellen, dass die meisten Menschen den Umgang mit diesem System sehr schnell lernen.\",\"Ich fand das System sehr umständlich zu nutzen.\", \"Ich fühlte mich bei der Benutzung des Systems sehr sicher.\",\"Ich musste eine Menge lernen, bevor ich anfangen konnte das System zu verwenden.\"]\n",
    "\n",
    "def calculate_sus_score(sus_data_frame_row):\n",
    "    total_score = 0\n",
    "    for i, question in enumerate(sus_questions):\n",
    "        answer_for_question = sus_data_frame_row[question]\n",
    "        score_for_question = 0\n",
    "        if(\"Stimme eher nicht zu\" in answer_for_question):\n",
    "            score_for_question = 1\n",
    "        elif(\"weder noch\" in answer_for_question):\n",
    "            score_for_question = 2\n",
    "        elif(\"Stimme etwas zu\" in answer_for_question):\n",
    "            score_for_question = 3\n",
    "        elif(\"Stimme voll zu\" in answer_for_question):\n",
    "            score_for_question = 4\n",
    "        is_negative_question = i % 2 != 0\n",
    "        if(is_negative_question):\n",
    "            score_for_question = 4 - score_for_question\n",
    "        total_score += score_for_question\n",
    "        \n",
    "    return total_score * 2.5"
   ]
  },
  {
   "cell_type": "code",
   "execution_count": 87,
   "metadata": {},
   "outputs": [],
   "source": [
    "ipq_questions = []\n",
    "\n",
    "spatial_presence_questions = ['Ich hatte das Gefühl, daß die virtuelle Umgebung hinter mir weitergeht.', 'Ich hatte das Gefühl, nur Bilder zu sehen.', 'Ich hatte das Gefühl, in dem virtuellen Raum zu handeln statt etwas von außen zu bedienen.','Ich fühlte mich im virtuellen Raum anwesend.']\n",
    "ipq_questions += spatial_presence_questions\n",
    "likert_categories_type = pd.CategoricalDtype(categories=[\"trifft gar nicht zu\", \"trifft eher nicht zu\", \"teils-teils\",\"trifft eher zu\",\"trifft völlig zu\"], ordered=True)\n",
    "present_scale = pd.CategoricalDtype(categories=[\"hatte nicht das Gefühl\", \"hatte eher nicht das Gefühl\", \"teils-teils\",\"hatte eher das Gefühl\",\"hatte das Gefühl\"], ordered=True)\n",
    "present_question = \"Ich hatte nicht das Gefühl, in dem virtuellen Raum zu sein.\"\n",
    "ipq_questions.append(present_question)\n",
    "encoded_spatial_presence_columns =['SP1','SP2','SP4','SP5']\n",
    "\n",
    "spatial_presence_columns =['SP1','SP2','SP3','SP4','SP5']\n",
    "\n",
    "\n",
    "general_presence_questions = 'In der computererzeugten Welt hatte ich den Eindruck, dort gewesen zu sein...'\n",
    "ipq_questions.append(general_presence_questions)\n",
    "general_presence_encoded = 'G1'\n",
    "general_presence_scale = pd.CategoricalDtype(categories=['überhaupt nicht','eher nicht', 'weder noch', 'etwas', 'sehr stark'])\n",
    "\n",
    "involvement_question_awareness = 'Wie bewußt war Ihnen die reale Welt, während Sie sich durch die virtuelle Welt bewegten (z.B. Geräusche, Raumtemperatur, andere Personen etc.)?' \n",
    "ipq_questions.append(involvement_question_awareness)\n",
    "awareness_scale = pd.CategoricalDtype(categories=['extrem bewußt', 'etwas bewußt', 'mittelmäßig', 'etwas unbewußt', 'unbewußt'])\n",
    "involvement_questions = ['Meine reale Umgebung war mir nicht mehr bewußt.','Ich achtete noch auf die reale Umgebung.', 'Meine Aufmerksamkeit war von der virtuellen Welt völlig in Bann gezogen.']\n",
    "ipq_questions += involvement_questions\n",
    "encoded_involvement_columns =['INV2','INV3','INV4']\n",
    "involvement_columns =['INV1','INV2','INV3','INV4']\n",
    "\n",
    "realism_question = 'Wie real erschien Ihnen die virtuelle Umgebung?'\n",
    "ipq_questions.append(realism_question)\n",
    "realism_scale = pd.CategoricalDtype(categories=['vollkommen real','real','weder noch','nicht real','gar nicht real'])\n",
    "realism_similarity_question = 'Wie sehr glich Ihr Erleben der virtuellen Umgebung dem Erleben einer realen Umgebung?'\n",
    "ipq_questions.append(realism_similarity_question)\n",
    "similarity_scale = pd.CategoricalDtype(categories=['überhaupt nicht','nicht','mittelmäßig','etwas','vollständig'])\n",
    "realism_world_question = 'Wie real erschien Ihnen die virtuelle Welt?'\n",
    "ipq_questions.append(realism_world_question)\n",
    "realism_world_scale = pd.CategoricalDtype(categories=['wie eine vorgestellte Welt','eher wie eine vorgestellte Welt','weder noch','fast nicht zu unterscheiden von der realen Welt','nicht zu unterscheiden von der realen Welt'])\n",
    "realism_more_question = 'Die virtuelle Welt erschien mir wirklicher als die reale Welt.'\n",
    "ipq_questions.append(realism_more_question)\n",
    "experienced_realism_columns = ['REAL1', 'REAL2', 'REAL3', 'REAL4']\n",
    "\n",
    "\n",
    "\n",
    "def encode_likert_ipq(ipq_results):\n",
    "    for index, question in enumerate(spatial_presence_questions):\n",
    "        encode(ipq_results, question, likert_categories_type, encoded_spatial_presence_columns[index])\n",
    "    encode(ipq_results, present_question, present_scale, 'SP3')\n",
    "   \n",
    "    \n",
    "    encode(ipq_results, general_presence_questions, general_presence_scale, general_presence_encoded)\n",
    "\n",
    "    encode(ipq_results, involvement_question_awareness, awareness_scale, 'INV1')\n",
    "    for index, question in enumerate(involvement_questions):\n",
    "        encode(ipq_results, question, likert_categories_type, encoded_involvement_columns[index])\n",
    "    encode(ipq_results, realism_question, realism_scale, 'REAL1')\n",
    "    encode(ipq_results, realism_similarity_question, similarity_scale, 'REAL2')\n",
    "    encode(ipq_results, realism_world_question, realism_world_scale, 'REAL3')\n",
    "    encode(ipq_results, realism_more_question, likert_categories_type, 'REAL4')\n",
    "\n",
    "def encode(ipq_results_data_frame, questions, category_type, encoded_questions):\n",
    "    ipq_results_data_frame.loc[:,questions] = ipq_results_data_frame.loc[:,questions].astype(category_type)\n",
    "    # subtract 2 to get scale -2, 1, 0, 1, 2 instead from 0 to 5\n",
    "    ipq_results_data_frame.loc[:,encoded_questions] = (ipq_results_data_frame.loc[:,questions].cat.codes - 2)\n",
    "  "
   ]
  },
  {
   "cell_type": "code",
   "execution_count": 88,
   "metadata": {},
   "outputs": [],
   "source": [
    "\n",
    "\n",
    "def calculate_medians_ipq(ipq_results):\n",
    "    calculate_median_ipq(ipq_results,'spatial_presence_median', spatial_presence_columns)\n",
    "    calculate_median_ipq(ipq_results, 'involvement_median', involvement_columns)\n",
    "    calculate_median_ipq(ipq_results, 'experienced_realism_median', experienced_realism_columns)\n",
    "\n",
    "\n",
    "\n",
    "\n",
    "\n",
    "def calculate_median_ipq(ipq_results_data_frame, median_name, columns):\n",
    "    ipq_results_data_frame.loc[:,median_name] = ipq_results_data_frame.loc[:,columns].median(axis=1)\n"
   ]
  },
  {
   "cell_type": "code",
   "execution_count": 89,
   "metadata": {},
   "outputs": [],
   "source": [
    "ipq_columns = [general_presence_encoded]\n",
    "ipq_columns = ipq_columns + spatial_presence_columns\n",
    "ipq_columns = ipq_columns + involvement_columns\n",
    "ipq_columns = ipq_columns + experienced_realism_columns\n",
    "\n",
    "def calculate_ipq_score(ipq_results_data_frame):\n",
    "    calculate_score(ipq_results_data_frame, 'IPQ_score', ipq_columns)\n",
    "\n",
    "def calculate_score(results_data_frame, score_name, columns):\n",
    "    results_data_frame[score_name] = 0\n",
    "    for column in columns:\n",
    "        results_data_frame[score_name] = results_data_frame[score_name] + results_data_frame[column]\n",
    "        \n",
    "    "
   ]
  },
  {
   "cell_type": "code",
   "execution_count": 90,
   "metadata": {},
   "outputs": [],
   "source": [
    "pq_questions = [\"Ich konnte die Ereignisse gut kontrollieren.\", \"Ich habe die Interaktion mit der virtuellen Umgebung als natürlich empfunden.\", \"Die visuellen Aspekte haben mich stark eingezogen.\", \"Ich finde das Kontrollieren der Bewegung natürlich.\", \"Ich finde die Bewegungen von Objekten im virtuellen Raum waren überzeugend.\", \"Ich konnten die Umgebung mit meinen Augen leicht durchsuchen.\",\"Ich empfand es natürlich sich durch die virtuelle Welt zu bewegen.\", \"Ich konnte die Objekte in der virtuellen Umgebung gut bewegen bzw. manipulieren.\", \"Ich war in dem virtuellen Erlebnis stark einbezogen.\", \"Ich finde es sehr einfach Objekte durch physische Interaktionen (z.B. Berührung) zu identifizieren.\", \"Das Audio hat mich stark eingezogen.\", \"Ich konnte verschiedene Geräusche gut unterscheiden.\",\"Ich konnte Geräusche gut lokalisieren.\",\"Ich konnte die Umgebung gut mit meiner Hand wahrnehmen.\",\"Ich konnte Objekte aus nächster Nähe beobachten.\",\"Ich konnte Objekte gut von verschiedenen Perspektiven anschauen.\",\"Ich konnte gut vorhersagen was die Reaktionen auf meine Aktionen sind.\", \"Ich konnte mich sehr schnell an die virtuelle Umgebung gewöhnen.\", \"Zum Ende des Spiels hatte ich das Gefühl mit der virtuellen Umgebung kompetent interagieren zu können.\", \"Ich konnte mich gut auf die Aufgaben das Spiel zu lösen konzentrieren ohne stark auf die Mechanismen um die Aufgaben zu lösen achten zu müssen.\",\"Meine Sinne waren Stark in das Spiel einbezogen.\",\"Es gab Momente in denen ich vollständig im Spiel eintauchen konnte.\",\"Ich konnte mich leicht an die Geräte involviert im Spiel gewöhnen.\",\"Für mich waren die Informationen die meine verschiedenen Sinne wahrgenommen haben konsistent.\",\"Die Verzögerung zwischen meinen Aktionen und erwarteten Ergebnis waren angemessen.\",\"Die Qualität der optischen Anzeige hat mich daran gehindert im Spiel einzutauchen.\",\"Die Geräte die ich benutzt habe, haben mich abgelenkt.\"]\n",
    "\n",
    "seven_point_likert_scale = pd.CategoricalDtype(categories=['gar nicht','wenig','eher wenig','weiß nicht, unentschieden', 'ein bisschen', 'stark', 'sehr stark'])\n",
    "\n",
    "pq_encoded = [\"PQ_INV1_enc\",\"PQ_INV3_enc\",\"PQ_INV4_enc\",\"PQ_INV5_enc\",\"PQ_INV6_enc\",\"PQ_INV8_enc\",\"PQ_INV9_enc\",\"PQ_INV10_enc\",\"PQ_INV11_enc\",\"PQ_INV12_enc\", \"PQ_SEN1_enc\",\"PQ_SEN2_enc\",\"PQ_SEN3_enc\",\"PQ_SEN4_enc\",\"PQ_SEN5_enc\",\"PQ_SEN6_enc\", \"PQ_IMM1_enc\",\"PQ_IMM2_enc\",\"PQ_IMM3_enc\",\"PQ_IMM4_enc\",\"PQ_IMM5_enc\",\"PQ_IMM6_enc\",\"PQ_IMM7_enc\",\"PQ_IMM8_enc\", \"PQ_INT1_enc\",\"PQ_INT2_enc\",\"PQ_INT3_enc\"]\n",
    "\n",
    "def encode_pq(pq_results):\n",
    "    for index, question in enumerate(pq_questions):\n",
    "        encode(pq_results, question, seven_point_likert_scale, pq_encoded[index])"
   ]
  },
  {
   "cell_type": "code",
   "execution_count": 91,
   "metadata": {},
   "outputs": [],
   "source": [
    "from __future__ import division\n",
    "import numpy as np\n",
    "import random\n",
    "\n",
    "def sample(data):\n",
    "    sample = [random.choice(data) for _ in range(len(data))]\n",
    "    return sample\n",
    "\n",
    "def bootstrap_t_test(treatment, control, nboot = 1000, direction = \"less\"):\n",
    "    ones = np.vstack((np.ones(len(treatment)),treatment))\n",
    "    treatment = ones.conj().transpose()\n",
    "    zeros = np.vstack((np.zeros(len(control)), control))\n",
    "    control = zeros.conj().transpose()\n",
    "    Z = np.vstack((treatment, control))\n",
    "    tstat = np.mean(treatment[:,1])-np.mean(control[:,1])\n",
    "    tboot = np.zeros(nboot)\n",
    "    for i in range(nboot):\n",
    "        sboot = sample(Z)\n",
    "        sboot = pd.DataFrame(np.array(sboot), columns=['treat', 'vals'])\n",
    "        tboot[i] = np.mean(sboot['vals'][sboot['treat'] == 1]) - np.mean(sboot['vals'][sboot['treat'] == 0]) - tstat\n",
    "    if direction == \"greater\":\n",
    "        pvalue = np.sum(tboot>=tstat-0)/nboot\n",
    "    elif direction == \"less\":\n",
    "        pvalue = np.sum(tboot<=tstat-0)/nboot\n",
    "    else:\n",
    "        print ('Enter a valid arg for direction')\n",
    "\n",
    "    print(f'The p-value is {pvalue}')"
   ]
  },
  {
   "cell_type": "markdown",
   "metadata": {},
   "source": [
    "## Load Data"
   ]
  },
  {
   "cell_type": "code",
   "execution_count": 92,
   "metadata": {},
   "outputs": [],
   "source": [
    "path_to_demographic_data = \"../study-results/Demografische Fragen.csv\"\n",
    "path_to_presence_data = \"../study-results/Game Studie.csv\"\n",
    "\n",
    "demographic_data_frame = pd.read_csv(path_to_demographic_data)\n",
    "presence_data_frame = pd.read_csv(path_to_presence_data)\n",
    "haptic_presence_data_frame = presence_data_frame[presence_data_frame[\"Spieltyp auf den sich dieser Fragebogen bezieht.\"] == \"Mit Haptik\"]\n",
    "visual_presence_data_frame = presence_data_frame[presence_data_frame[\"Spieltyp auf den sich dieser Fragebogen bezieht.\"] == \"Ohne Haptik\"]\n",
    "\n",
    "#all_data_frame = demographic_data_frame.merge(haptic_presence_data_frame,left_on=\"Id2\", right_on=\"Id des Teilnehmers\")\n",
    "#all_data_frame = all_data_frame.merge(visual_presence_data_frame,left_on=\"Id2\", right_on=\"Id des Teilnehmers\")\n",
    "#len(all_data_frame)"
   ]
  },
  {
   "cell_type": "markdown",
   "metadata": {},
   "source": [
    "## Data Transformation"
   ]
  },
  {
   "cell_type": "code",
   "execution_count": 93,
   "metadata": {},
   "outputs": [],
   "source": [
    "\n",
    "demographic_data_frame['born'] = pd.to_datetime(demographic_data_frame['Wann wurden Sie geboren?'])\n",
    "demographic_data_frame['reference'] = pd.to_datetime(demographic_data_frame['Completion time'])\n",
    "\n",
    "demographic_data_frame['age']=(demographic_data_frame.apply(birthday_to_age, axis=1))\n"
   ]
  },
  {
   "cell_type": "code",
   "execution_count": 94,
   "metadata": {},
   "outputs": [],
   "source": [
    "encode_likert_ipq(haptic_presence_data_frame)\n",
    "encode_likert_ipq(visual_presence_data_frame)"
   ]
  },
  {
   "cell_type": "code",
   "execution_count": 95,
   "metadata": {},
   "outputs": [],
   "source": [
    "calculate_medians_ipq(haptic_presence_data_frame)\n",
    "calculate_medians_ipq(visual_presence_data_frame)"
   ]
  },
  {
   "cell_type": "code",
   "execution_count": 96,
   "metadata": {},
   "outputs": [],
   "source": [
    "ipq_score_columns = ['G1', 'SP_score', 'INV_score', 'REAL_score']\n",
    "calculate_score(haptic_presence_data_frame, 'SP_score', spatial_presence_columns)\n",
    "calculate_score(visual_presence_data_frame, 'SP_score', spatial_presence_columns)\n",
    "\n",
    "calculate_score(haptic_presence_data_frame, 'INV_score', involvement_columns)\n",
    "calculate_score(visual_presence_data_frame, 'INV_score', involvement_columns)\n",
    "\n",
    "calculate_score(haptic_presence_data_frame, 'REAL_score', experienced_realism_columns)\n",
    "calculate_score(visual_presence_data_frame, 'REAL_score', experienced_realism_columns)"
   ]
  },
  {
   "cell_type": "code",
   "execution_count": 97,
   "metadata": {},
   "outputs": [],
   "source": [
    "calculate_ipq_score(haptic_presence_data_frame)\n",
    "calculate_ipq_score(visual_presence_data_frame)"
   ]
  },
  {
   "cell_type": "code",
   "execution_count": 98,
   "metadata": {},
   "outputs": [
    {
     "data": {
      "text/html": [
       "<div>\n",
       "<style scoped>\n",
       "    .dataframe tbody tr th:only-of-type {\n",
       "        vertical-align: middle;\n",
       "    }\n",
       "\n",
       "    .dataframe tbody tr th {\n",
       "        vertical-align: top;\n",
       "    }\n",
       "\n",
       "    .dataframe thead th {\n",
       "        text-align: right;\n",
       "    }\n",
       "</style>\n",
       "<table border=\"1\" class=\"dataframe\">\n",
       "  <thead>\n",
       "    <tr style=\"text-align: right;\">\n",
       "      <th></th>\n",
       "      <th>Ich hatte das Gefühl, daß die virtuelle Umgebung hinter mir weitergeht.</th>\n",
       "      <th>Ich hatte das Gefühl, nur Bilder zu sehen.</th>\n",
       "      <th>Ich hatte das Gefühl, in dem virtuellen Raum zu handeln statt etwas von außen zu bedienen.</th>\n",
       "      <th>Ich fühlte mich im virtuellen Raum anwesend.</th>\n",
       "      <th>Ich hatte nicht das Gefühl, in dem virtuellen Raum zu sein.</th>\n",
       "      <th>In der computererzeugten Welt hatte ich den Eindruck, dort gewesen zu sein...</th>\n",
       "      <th>Wie bewußt war Ihnen die reale Welt, während Sie sich durch die virtuelle Welt bewegten (z.B. Geräusche, Raumtemperatur, andere Personen etc.)?</th>\n",
       "      <th>Meine reale Umgebung war mir nicht mehr bewußt.</th>\n",
       "      <th>Ich achtete noch auf die reale Umgebung.</th>\n",
       "      <th>Meine Aufmerksamkeit war von der virtuellen Welt völlig in Bann gezogen.</th>\n",
       "      <th>Wie real erschien Ihnen die virtuelle Umgebung?</th>\n",
       "      <th>Wie sehr glich Ihr Erleben der virtuellen Umgebung dem Erleben einer realen Umgebung?</th>\n",
       "      <th>Wie real erschien Ihnen die virtuelle Welt?</th>\n",
       "      <th>Die virtuelle Welt erschien mir wirklicher als die reale Welt.</th>\n",
       "    </tr>\n",
       "  </thead>\n",
       "  <tbody>\n",
       "    <tr>\n",
       "      <th>0</th>\n",
       "      <td>trifft eher nicht zu</td>\n",
       "      <td>trifft gar nicht zu</td>\n",
       "      <td>trifft völlig zu</td>\n",
       "      <td>trifft völlig zu</td>\n",
       "      <td>hatte das Gefühl</td>\n",
       "      <td>sehr stark</td>\n",
       "      <td>unbewußt</td>\n",
       "      <td>trifft völlig zu</td>\n",
       "      <td>trifft gar nicht zu</td>\n",
       "      <td>trifft gar nicht zu</td>\n",
       "      <td>real</td>\n",
       "      <td>nicht</td>\n",
       "      <td>wie eine vorgestellte Welt</td>\n",
       "      <td>trifft eher nicht zu</td>\n",
       "    </tr>\n",
       "    <tr>\n",
       "      <th>3</th>\n",
       "      <td>trifft eher nicht zu</td>\n",
       "      <td>trifft eher nicht zu</td>\n",
       "      <td>trifft völlig zu</td>\n",
       "      <td>trifft eher zu</td>\n",
       "      <td>teils-teils</td>\n",
       "      <td>etwas</td>\n",
       "      <td>etwas unbewußt</td>\n",
       "      <td>trifft gar nicht zu</td>\n",
       "      <td>trifft eher zu</td>\n",
       "      <td>trifft völlig zu</td>\n",
       "      <td>vollkommen real</td>\n",
       "      <td>etwas</td>\n",
       "      <td>fast nicht zu unterscheiden von der realen Welt</td>\n",
       "      <td>trifft gar nicht zu</td>\n",
       "    </tr>\n",
       "    <tr>\n",
       "      <th>4</th>\n",
       "      <td>trifft eher nicht zu</td>\n",
       "      <td>trifft eher nicht zu</td>\n",
       "      <td>trifft eher zu</td>\n",
       "      <td>trifft völlig zu</td>\n",
       "      <td>hatte eher das Gefühl</td>\n",
       "      <td>etwas</td>\n",
       "      <td>etwas unbewußt</td>\n",
       "      <td>trifft völlig zu</td>\n",
       "      <td>trifft gar nicht zu</td>\n",
       "      <td>trifft völlig zu</td>\n",
       "      <td>real</td>\n",
       "      <td>etwas</td>\n",
       "      <td>weder noch</td>\n",
       "      <td>trifft eher nicht zu</td>\n",
       "    </tr>\n",
       "    <tr>\n",
       "      <th>7</th>\n",
       "      <td>teils-teils</td>\n",
       "      <td>trifft eher nicht zu</td>\n",
       "      <td>trifft eher zu</td>\n",
       "      <td>trifft eher zu</td>\n",
       "      <td>hatte eher das Gefühl</td>\n",
       "      <td>etwas</td>\n",
       "      <td>etwas unbewußt</td>\n",
       "      <td>trifft eher zu</td>\n",
       "      <td>trifft eher nicht zu</td>\n",
       "      <td>trifft eher zu</td>\n",
       "      <td>real</td>\n",
       "      <td>etwas</td>\n",
       "      <td>eher wie eine vorgestellte Welt</td>\n",
       "      <td>trifft eher zu</td>\n",
       "    </tr>\n",
       "    <tr>\n",
       "      <th>8</th>\n",
       "      <td>trifft eher zu</td>\n",
       "      <td>trifft eher nicht zu</td>\n",
       "      <td>trifft völlig zu</td>\n",
       "      <td>trifft völlig zu</td>\n",
       "      <td>hatte das Gefühl</td>\n",
       "      <td>sehr stark</td>\n",
       "      <td>etwas unbewußt</td>\n",
       "      <td>trifft eher nicht zu</td>\n",
       "      <td>teils-teils</td>\n",
       "      <td>trifft eher zu</td>\n",
       "      <td>weder noch</td>\n",
       "      <td>etwas</td>\n",
       "      <td>weder noch</td>\n",
       "      <td>trifft eher nicht zu</td>\n",
       "    </tr>\n",
       "    <tr>\n",
       "      <th>11</th>\n",
       "      <td>teils-teils</td>\n",
       "      <td>trifft eher nicht zu</td>\n",
       "      <td>trifft eher zu</td>\n",
       "      <td>trifft eher zu</td>\n",
       "      <td>hatte eher nicht das Gefühl</td>\n",
       "      <td>sehr stark</td>\n",
       "      <td>etwas unbewußt</td>\n",
       "      <td>trifft eher zu</td>\n",
       "      <td>trifft gar nicht zu</td>\n",
       "      <td>trifft völlig zu</td>\n",
       "      <td>real</td>\n",
       "      <td>etwas</td>\n",
       "      <td>eher wie eine vorgestellte Welt</td>\n",
       "      <td>trifft eher nicht zu</td>\n",
       "    </tr>\n",
       "    <tr>\n",
       "      <th>12</th>\n",
       "      <td>trifft gar nicht zu</td>\n",
       "      <td>trifft gar nicht zu</td>\n",
       "      <td>trifft eher nicht zu</td>\n",
       "      <td>teils-teils</td>\n",
       "      <td>hatte eher nicht das Gefühl</td>\n",
       "      <td>etwas</td>\n",
       "      <td>etwas bewußt</td>\n",
       "      <td>trifft gar nicht zu</td>\n",
       "      <td>teils-teils</td>\n",
       "      <td>trifft eher zu</td>\n",
       "      <td>nicht real</td>\n",
       "      <td>nicht</td>\n",
       "      <td>eher wie eine vorgestellte Welt</td>\n",
       "      <td>trifft gar nicht zu</td>\n",
       "    </tr>\n",
       "    <tr>\n",
       "      <th>15</th>\n",
       "      <td>trifft eher nicht zu</td>\n",
       "      <td>trifft gar nicht zu</td>\n",
       "      <td>teils-teils</td>\n",
       "      <td>trifft eher nicht zu</td>\n",
       "      <td>hatte das Gefühl</td>\n",
       "      <td>sehr stark</td>\n",
       "      <td>unbewußt</td>\n",
       "      <td>trifft völlig zu</td>\n",
       "      <td>trifft völlig zu</td>\n",
       "      <td>trifft völlig zu</td>\n",
       "      <td>real</td>\n",
       "      <td>mittelmäßig</td>\n",
       "      <td>weder noch</td>\n",
       "      <td>teils-teils</td>\n",
       "    </tr>\n",
       "  </tbody>\n",
       "</table>\n",
       "</div>"
      ],
      "text/plain": [
       "   Ich hatte das Gefühl, daß die virtuelle Umgebung hinter mir weitergeht.  \\\n",
       "0                                trifft eher nicht zu                        \n",
       "3                                trifft eher nicht zu                        \n",
       "4                                trifft eher nicht zu                        \n",
       "7                                         teils-teils                        \n",
       "8                                      trifft eher zu                        \n",
       "11                                        teils-teils                        \n",
       "12                                trifft gar nicht zu                        \n",
       "15                               trifft eher nicht zu                        \n",
       "\n",
       "   Ich hatte das Gefühl, nur Bilder zu sehen.  \\\n",
       "0                         trifft gar nicht zu   \n",
       "3                        trifft eher nicht zu   \n",
       "4                        trifft eher nicht zu   \n",
       "7                        trifft eher nicht zu   \n",
       "8                        trifft eher nicht zu   \n",
       "11                       trifft eher nicht zu   \n",
       "12                        trifft gar nicht zu   \n",
       "15                        trifft gar nicht zu   \n",
       "\n",
       "   Ich hatte das Gefühl, in dem virtuellen Raum zu handeln statt etwas von außen zu bedienen.  \\\n",
       "0                                    trifft völlig zu                                           \n",
       "3                                    trifft völlig zu                                           \n",
       "4                                      trifft eher zu                                           \n",
       "7                                      trifft eher zu                                           \n",
       "8                                    trifft völlig zu                                           \n",
       "11                                     trifft eher zu                                           \n",
       "12                               trifft eher nicht zu                                           \n",
       "15                                        teils-teils                                           \n",
       "\n",
       "   Ich fühlte mich im virtuellen Raum anwesend.  \\\n",
       "0                              trifft völlig zu   \n",
       "3                                trifft eher zu   \n",
       "4                              trifft völlig zu   \n",
       "7                                trifft eher zu   \n",
       "8                              trifft völlig zu   \n",
       "11                               trifft eher zu   \n",
       "12                                  teils-teils   \n",
       "15                         trifft eher nicht zu   \n",
       "\n",
       "   Ich hatte nicht das Gefühl, in dem virtuellen Raum zu sein.  \\\n",
       "0                                    hatte das Gefühl            \n",
       "3                                         teils-teils            \n",
       "4                               hatte eher das Gefühl            \n",
       "7                               hatte eher das Gefühl            \n",
       "8                                    hatte das Gefühl            \n",
       "11                        hatte eher nicht das Gefühl            \n",
       "12                        hatte eher nicht das Gefühl            \n",
       "15                                   hatte das Gefühl            \n",
       "\n",
       "   In der computererzeugten Welt hatte ich den Eindruck, dort gewesen zu sein...  \\\n",
       "0                                          sehr stark                              \n",
       "3                                               etwas                              \n",
       "4                                               etwas                              \n",
       "7                                               etwas                              \n",
       "8                                          sehr stark                              \n",
       "11                                         sehr stark                              \n",
       "12                                              etwas                              \n",
       "15                                         sehr stark                              \n",
       "\n",
       "   Wie bewußt war Ihnen die reale Welt, während Sie sich durch die virtuelle Welt bewegten (z.B. Geräusche, Raumtemperatur, andere Personen etc.)?  \\\n",
       "0                                            unbewußt                                                                                                \n",
       "3                                      etwas unbewußt                                                                                                \n",
       "4                                      etwas unbewußt                                                                                                \n",
       "7                                      etwas unbewußt                                                                                                \n",
       "8                                      etwas unbewußt                                                                                                \n",
       "11                                     etwas unbewußt                                                                                                \n",
       "12                                       etwas bewußt                                                                                                \n",
       "15                                           unbewußt                                                                                                \n",
       "\n",
       "   Meine reale Umgebung war mir nicht mehr bewußt.  \\\n",
       "0                                 trifft völlig zu   \n",
       "3                              trifft gar nicht zu   \n",
       "4                                 trifft völlig zu   \n",
       "7                                   trifft eher zu   \n",
       "8                             trifft eher nicht zu   \n",
       "11                                  trifft eher zu   \n",
       "12                             trifft gar nicht zu   \n",
       "15                                trifft völlig zu   \n",
       "\n",
       "   Ich achtete noch auf die reale Umgebung.  \\\n",
       "0                       trifft gar nicht zu   \n",
       "3                            trifft eher zu   \n",
       "4                       trifft gar nicht zu   \n",
       "7                      trifft eher nicht zu   \n",
       "8                               teils-teils   \n",
       "11                      trifft gar nicht zu   \n",
       "12                              teils-teils   \n",
       "15                         trifft völlig zu   \n",
       "\n",
       "   Meine Aufmerksamkeit war von der virtuellen Welt völlig in Bann gezogen.  \\\n",
       "0                                 trifft gar nicht zu                         \n",
       "3                                    trifft völlig zu                         \n",
       "4                                    trifft völlig zu                         \n",
       "7                                      trifft eher zu                         \n",
       "8                                      trifft eher zu                         \n",
       "11                                   trifft völlig zu                         \n",
       "12                                     trifft eher zu                         \n",
       "15                                   trifft völlig zu                         \n",
       "\n",
       "   Wie real erschien Ihnen die virtuelle Umgebung?  \\\n",
       "0                                             real   \n",
       "3                                  vollkommen real   \n",
       "4                                             real   \n",
       "7                                             real   \n",
       "8                                       weder noch   \n",
       "11                                            real   \n",
       "12                                      nicht real   \n",
       "15                                            real   \n",
       "\n",
       "   Wie sehr glich Ihr Erleben der virtuellen Umgebung dem Erleben einer realen Umgebung?  \\\n",
       "0                                               nicht                                      \n",
       "3                                               etwas                                      \n",
       "4                                               etwas                                      \n",
       "7                                               etwas                                      \n",
       "8                                               etwas                                      \n",
       "11                                              etwas                                      \n",
       "12                                              nicht                                      \n",
       "15                                        mittelmäßig                                      \n",
       "\n",
       "        Wie real erschien Ihnen die virtuelle Welt?  \\\n",
       "0                        wie eine vorgestellte Welt   \n",
       "3   fast nicht zu unterscheiden von der realen Welt   \n",
       "4                                        weder noch   \n",
       "7                   eher wie eine vorgestellte Welt   \n",
       "8                                        weder noch   \n",
       "11                  eher wie eine vorgestellte Welt   \n",
       "12                  eher wie eine vorgestellte Welt   \n",
       "15                                       weder noch   \n",
       "\n",
       "   Die virtuelle Welt erschien mir wirklicher als die reale Welt.  \n",
       "0                                trifft eher nicht zu              \n",
       "3                                 trifft gar nicht zu              \n",
       "4                                trifft eher nicht zu              \n",
       "7                                      trifft eher zu              \n",
       "8                                trifft eher nicht zu              \n",
       "11                               trifft eher nicht zu              \n",
       "12                                trifft gar nicht zu              \n",
       "15                                        teils-teils              "
      ]
     },
     "execution_count": 98,
     "metadata": {},
     "output_type": "execute_result"
    }
   ],
   "source": [
    "haptic_presence_data_frame[ipq_questions]"
   ]
  },
  {
   "cell_type": "code",
   "execution_count": 99,
   "metadata": {},
   "outputs": [
    {
     "data": {
      "text/html": [
       "<div>\n",
       "<style scoped>\n",
       "    .dataframe tbody tr th:only-of-type {\n",
       "        vertical-align: middle;\n",
       "    }\n",
       "\n",
       "    .dataframe tbody tr th {\n",
       "        vertical-align: top;\n",
       "    }\n",
       "\n",
       "    .dataframe thead th {\n",
       "        text-align: right;\n",
       "    }\n",
       "</style>\n",
       "<table border=\"1\" class=\"dataframe\">\n",
       "  <thead>\n",
       "    <tr style=\"text-align: right;\">\n",
       "      <th></th>\n",
       "      <th>condition</th>\n",
       "      <th>G1</th>\n",
       "      <th>SP_score</th>\n",
       "      <th>INV_score</th>\n",
       "      <th>REAL_score</th>\n",
       "    </tr>\n",
       "  </thead>\n",
       "  <tbody>\n",
       "    <tr>\n",
       "      <th>0</th>\n",
       "      <td>haptic</td>\n",
       "      <td>2</td>\n",
       "      <td>3</td>\n",
       "      <td>0</td>\n",
       "      <td>-5</td>\n",
       "    </tr>\n",
       "    <tr>\n",
       "      <th>3</th>\n",
       "      <td>haptic</td>\n",
       "      <td>1</td>\n",
       "      <td>1</td>\n",
       "      <td>2</td>\n",
       "      <td>-2</td>\n",
       "    </tr>\n",
       "    <tr>\n",
       "      <th>4</th>\n",
       "      <td>haptic</td>\n",
       "      <td>1</td>\n",
       "      <td>2</td>\n",
       "      <td>3</td>\n",
       "      <td>-1</td>\n",
       "    </tr>\n",
       "    <tr>\n",
       "      <th>7</th>\n",
       "      <td>haptic</td>\n",
       "      <td>1</td>\n",
       "      <td>2</td>\n",
       "      <td>2</td>\n",
       "      <td>0</td>\n",
       "    </tr>\n",
       "    <tr>\n",
       "      <th>8</th>\n",
       "      <td>haptic</td>\n",
       "      <td>2</td>\n",
       "      <td>6</td>\n",
       "      <td>1</td>\n",
       "      <td>0</td>\n",
       "    </tr>\n",
       "    <tr>\n",
       "      <th>11</th>\n",
       "      <td>haptic</td>\n",
       "      <td>2</td>\n",
       "      <td>0</td>\n",
       "      <td>2</td>\n",
       "      <td>-2</td>\n",
       "    </tr>\n",
       "    <tr>\n",
       "      <th>12</th>\n",
       "      <td>haptic</td>\n",
       "      <td>1</td>\n",
       "      <td>-6</td>\n",
       "      <td>-2</td>\n",
       "      <td>-3</td>\n",
       "    </tr>\n",
       "    <tr>\n",
       "      <th>15</th>\n",
       "      <td>haptic</td>\n",
       "      <td>2</td>\n",
       "      <td>-2</td>\n",
       "      <td>8</td>\n",
       "      <td>-1</td>\n",
       "    </tr>\n",
       "    <tr>\n",
       "      <th>1</th>\n",
       "      <td>visual</td>\n",
       "      <td>2</td>\n",
       "      <td>3</td>\n",
       "      <td>4</td>\n",
       "      <td>-2</td>\n",
       "    </tr>\n",
       "    <tr>\n",
       "      <th>2</th>\n",
       "      <td>visual</td>\n",
       "      <td>1</td>\n",
       "      <td>-1</td>\n",
       "      <td>0</td>\n",
       "      <td>-3</td>\n",
       "    </tr>\n",
       "    <tr>\n",
       "      <th>5</th>\n",
       "      <td>visual</td>\n",
       "      <td>1</td>\n",
       "      <td>1</td>\n",
       "      <td>2</td>\n",
       "      <td>-1</td>\n",
       "    </tr>\n",
       "    <tr>\n",
       "      <th>6</th>\n",
       "      <td>visual</td>\n",
       "      <td>1</td>\n",
       "      <td>-1</td>\n",
       "      <td>2</td>\n",
       "      <td>-1</td>\n",
       "    </tr>\n",
       "    <tr>\n",
       "      <th>9</th>\n",
       "      <td>visual</td>\n",
       "      <td>2</td>\n",
       "      <td>2</td>\n",
       "      <td>-1</td>\n",
       "      <td>-2</td>\n",
       "    </tr>\n",
       "    <tr>\n",
       "      <th>10</th>\n",
       "      <td>visual</td>\n",
       "      <td>1</td>\n",
       "      <td>2</td>\n",
       "      <td>3</td>\n",
       "      <td>-3</td>\n",
       "    </tr>\n",
       "    <tr>\n",
       "      <th>13</th>\n",
       "      <td>visual</td>\n",
       "      <td>-1</td>\n",
       "      <td>0</td>\n",
       "      <td>-2</td>\n",
       "      <td>-4</td>\n",
       "    </tr>\n",
       "    <tr>\n",
       "      <th>14</th>\n",
       "      <td>visual</td>\n",
       "      <td>1</td>\n",
       "      <td>3</td>\n",
       "      <td>3</td>\n",
       "      <td>-5</td>\n",
       "    </tr>\n",
       "  </tbody>\n",
       "</table>\n",
       "</div>"
      ],
      "text/plain": [
       "   condition  G1  SP_score  INV_score  REAL_score\n",
       "0     haptic   2         3          0          -5\n",
       "3     haptic   1         1          2          -2\n",
       "4     haptic   1         2          3          -1\n",
       "7     haptic   1         2          2           0\n",
       "8     haptic   2         6          1           0\n",
       "11    haptic   2         0          2          -2\n",
       "12    haptic   1        -6         -2          -3\n",
       "15    haptic   2        -2          8          -1\n",
       "1     visual   2         3          4          -2\n",
       "2     visual   1        -1          0          -3\n",
       "5     visual   1         1          2          -1\n",
       "6     visual   1        -1          2          -1\n",
       "9     visual   2         2         -1          -2\n",
       "10    visual   1         2          3          -3\n",
       "13    visual  -1         0         -2          -4\n",
       "14    visual   1         3          3          -5"
      ]
     },
     "execution_count": 99,
     "metadata": {},
     "output_type": "execute_result"
    }
   ],
   "source": [
    "subscale_ipq_questionnaire_results = haptic_presence_data_frame[ipq_score_columns]\n",
    "subscale_ipq_questionnaire_results.insert(0,'condition' , 'haptic')\n",
    "visual_subscale_ipq_columns = visual_presence_data_frame[ipq_score_columns]\n",
    "visual_subscale_ipq_columns.insert(0,'condition' , 'visual')\n",
    "subscale_ipq_questionnaire_results = subscale_ipq_questionnaire_results.append(visual_subscale_ipq_columns)\n",
    "subscale_ipq_questionnaire_results"
   ]
  },
  {
   "cell_type": "code",
   "execution_count": 100,
   "metadata": {},
   "outputs": [],
   "source": [
    "condition_ipq_questionnaire_results = haptic_presence_data_frame[ipq_columns]\n",
    "condition_ipq_questionnaire_results.insert(0,'condition' , 'haptic')\n",
    "visual_ipq_columns = visual_presence_data_frame[ipq_columns]\n",
    "visual_ipq_columns.insert(0,'condition' , 'visual')\n",
    "condition_ipq_questionnaire_results = condition_ipq_questionnaire_results.append(visual_ipq_columns)"
   ]
  },
  {
   "cell_type": "code",
   "execution_count": 101,
   "metadata": {},
   "outputs": [
    {
     "data": {
      "text/html": [
       "<div>\n",
       "<style scoped>\n",
       "    .dataframe tbody tr th:only-of-type {\n",
       "        vertical-align: middle;\n",
       "    }\n",
       "\n",
       "    .dataframe tbody tr th {\n",
       "        vertical-align: top;\n",
       "    }\n",
       "\n",
       "    .dataframe thead th {\n",
       "        text-align: right;\n",
       "    }\n",
       "</style>\n",
       "<table border=\"1\" class=\"dataframe\">\n",
       "  <thead>\n",
       "    <tr style=\"text-align: right;\">\n",
       "      <th></th>\n",
       "      <th>condition</th>\n",
       "      <th>G1</th>\n",
       "      <th>SP1</th>\n",
       "      <th>SP2</th>\n",
       "      <th>SP3</th>\n",
       "      <th>SP4</th>\n",
       "      <th>SP5</th>\n",
       "      <th>INV1</th>\n",
       "      <th>INV2</th>\n",
       "      <th>INV3</th>\n",
       "      <th>INV4</th>\n",
       "      <th>REAL1</th>\n",
       "      <th>REAL2</th>\n",
       "      <th>REAL3</th>\n",
       "      <th>REAL4</th>\n",
       "    </tr>\n",
       "  </thead>\n",
       "  <tbody>\n",
       "    <tr>\n",
       "      <th>0</th>\n",
       "      <td>haptic</td>\n",
       "      <td>2</td>\n",
       "      <td>-1</td>\n",
       "      <td>-2</td>\n",
       "      <td>2</td>\n",
       "      <td>2</td>\n",
       "      <td>2</td>\n",
       "      <td>2</td>\n",
       "      <td>2</td>\n",
       "      <td>-2</td>\n",
       "      <td>-2</td>\n",
       "      <td>-1</td>\n",
       "      <td>-1</td>\n",
       "      <td>-2</td>\n",
       "      <td>-1</td>\n",
       "    </tr>\n",
       "    <tr>\n",
       "      <th>3</th>\n",
       "      <td>haptic</td>\n",
       "      <td>1</td>\n",
       "      <td>-1</td>\n",
       "      <td>-1</td>\n",
       "      <td>0</td>\n",
       "      <td>2</td>\n",
       "      <td>1</td>\n",
       "      <td>1</td>\n",
       "      <td>-2</td>\n",
       "      <td>1</td>\n",
       "      <td>2</td>\n",
       "      <td>-2</td>\n",
       "      <td>1</td>\n",
       "      <td>1</td>\n",
       "      <td>-2</td>\n",
       "    </tr>\n",
       "    <tr>\n",
       "      <th>4</th>\n",
       "      <td>haptic</td>\n",
       "      <td>1</td>\n",
       "      <td>-1</td>\n",
       "      <td>-1</td>\n",
       "      <td>1</td>\n",
       "      <td>1</td>\n",
       "      <td>2</td>\n",
       "      <td>1</td>\n",
       "      <td>2</td>\n",
       "      <td>-2</td>\n",
       "      <td>2</td>\n",
       "      <td>-1</td>\n",
       "      <td>1</td>\n",
       "      <td>0</td>\n",
       "      <td>-1</td>\n",
       "    </tr>\n",
       "    <tr>\n",
       "      <th>7</th>\n",
       "      <td>haptic</td>\n",
       "      <td>1</td>\n",
       "      <td>0</td>\n",
       "      <td>-1</td>\n",
       "      <td>1</td>\n",
       "      <td>1</td>\n",
       "      <td>1</td>\n",
       "      <td>1</td>\n",
       "      <td>1</td>\n",
       "      <td>-1</td>\n",
       "      <td>1</td>\n",
       "      <td>-1</td>\n",
       "      <td>1</td>\n",
       "      <td>-1</td>\n",
       "      <td>1</td>\n",
       "    </tr>\n",
       "    <tr>\n",
       "      <th>8</th>\n",
       "      <td>haptic</td>\n",
       "      <td>2</td>\n",
       "      <td>1</td>\n",
       "      <td>-1</td>\n",
       "      <td>2</td>\n",
       "      <td>2</td>\n",
       "      <td>2</td>\n",
       "      <td>1</td>\n",
       "      <td>-1</td>\n",
       "      <td>0</td>\n",
       "      <td>1</td>\n",
       "      <td>0</td>\n",
       "      <td>1</td>\n",
       "      <td>0</td>\n",
       "      <td>-1</td>\n",
       "    </tr>\n",
       "    <tr>\n",
       "      <th>11</th>\n",
       "      <td>haptic</td>\n",
       "      <td>2</td>\n",
       "      <td>0</td>\n",
       "      <td>-1</td>\n",
       "      <td>-1</td>\n",
       "      <td>1</td>\n",
       "      <td>1</td>\n",
       "      <td>1</td>\n",
       "      <td>1</td>\n",
       "      <td>-2</td>\n",
       "      <td>2</td>\n",
       "      <td>-1</td>\n",
       "      <td>1</td>\n",
       "      <td>-1</td>\n",
       "      <td>-1</td>\n",
       "    </tr>\n",
       "    <tr>\n",
       "      <th>12</th>\n",
       "      <td>haptic</td>\n",
       "      <td>1</td>\n",
       "      <td>-2</td>\n",
       "      <td>-2</td>\n",
       "      <td>-1</td>\n",
       "      <td>-1</td>\n",
       "      <td>0</td>\n",
       "      <td>-1</td>\n",
       "      <td>-2</td>\n",
       "      <td>0</td>\n",
       "      <td>1</td>\n",
       "      <td>1</td>\n",
       "      <td>-1</td>\n",
       "      <td>-1</td>\n",
       "      <td>-2</td>\n",
       "    </tr>\n",
       "    <tr>\n",
       "      <th>15</th>\n",
       "      <td>haptic</td>\n",
       "      <td>2</td>\n",
       "      <td>-1</td>\n",
       "      <td>-2</td>\n",
       "      <td>2</td>\n",
       "      <td>0</td>\n",
       "      <td>-1</td>\n",
       "      <td>2</td>\n",
       "      <td>2</td>\n",
       "      <td>2</td>\n",
       "      <td>2</td>\n",
       "      <td>-1</td>\n",
       "      <td>0</td>\n",
       "      <td>0</td>\n",
       "      <td>0</td>\n",
       "    </tr>\n",
       "    <tr>\n",
       "      <th>1</th>\n",
       "      <td>visual</td>\n",
       "      <td>2</td>\n",
       "      <td>-1</td>\n",
       "      <td>-2</td>\n",
       "      <td>2</td>\n",
       "      <td>2</td>\n",
       "      <td>2</td>\n",
       "      <td>2</td>\n",
       "      <td>2</td>\n",
       "      <td>-2</td>\n",
       "      <td>2</td>\n",
       "      <td>-1</td>\n",
       "      <td>-1</td>\n",
       "      <td>-1</td>\n",
       "      <td>1</td>\n",
       "    </tr>\n",
       "    <tr>\n",
       "      <th>2</th>\n",
       "      <td>visual</td>\n",
       "      <td>1</td>\n",
       "      <td>-1</td>\n",
       "      <td>-2</td>\n",
       "      <td>-1</td>\n",
       "      <td>1</td>\n",
       "      <td>2</td>\n",
       "      <td>-1</td>\n",
       "      <td>-1</td>\n",
       "      <td>1</td>\n",
       "      <td>1</td>\n",
       "      <td>-1</td>\n",
       "      <td>0</td>\n",
       "      <td>-1</td>\n",
       "      <td>-1</td>\n",
       "    </tr>\n",
       "    <tr>\n",
       "      <th>5</th>\n",
       "      <td>visual</td>\n",
       "      <td>1</td>\n",
       "      <td>-1</td>\n",
       "      <td>-1</td>\n",
       "      <td>1</td>\n",
       "      <td>1</td>\n",
       "      <td>1</td>\n",
       "      <td>1</td>\n",
       "      <td>1</td>\n",
       "      <td>-1</td>\n",
       "      <td>1</td>\n",
       "      <td>-1</td>\n",
       "      <td>1</td>\n",
       "      <td>0</td>\n",
       "      <td>-1</td>\n",
       "    </tr>\n",
       "    <tr>\n",
       "      <th>6</th>\n",
       "      <td>visual</td>\n",
       "      <td>1</td>\n",
       "      <td>-1</td>\n",
       "      <td>-2</td>\n",
       "      <td>0</td>\n",
       "      <td>1</td>\n",
       "      <td>1</td>\n",
       "      <td>2</td>\n",
       "      <td>1</td>\n",
       "      <td>-2</td>\n",
       "      <td>1</td>\n",
       "      <td>0</td>\n",
       "      <td>1</td>\n",
       "      <td>-2</td>\n",
       "      <td>0</td>\n",
       "    </tr>\n",
       "    <tr>\n",
       "      <th>9</th>\n",
       "      <td>visual</td>\n",
       "      <td>2</td>\n",
       "      <td>1</td>\n",
       "      <td>-1</td>\n",
       "      <td>0</td>\n",
       "      <td>1</td>\n",
       "      <td>1</td>\n",
       "      <td>0</td>\n",
       "      <td>-1</td>\n",
       "      <td>-1</td>\n",
       "      <td>1</td>\n",
       "      <td>-1</td>\n",
       "      <td>1</td>\n",
       "      <td>-1</td>\n",
       "      <td>-1</td>\n",
       "    </tr>\n",
       "    <tr>\n",
       "      <th>10</th>\n",
       "      <td>visual</td>\n",
       "      <td>1</td>\n",
       "      <td>0</td>\n",
       "      <td>1</td>\n",
       "      <td>-1</td>\n",
       "      <td>1</td>\n",
       "      <td>1</td>\n",
       "      <td>1</td>\n",
       "      <td>1</td>\n",
       "      <td>-1</td>\n",
       "      <td>2</td>\n",
       "      <td>-1</td>\n",
       "      <td>1</td>\n",
       "      <td>-1</td>\n",
       "      <td>-2</td>\n",
       "    </tr>\n",
       "    <tr>\n",
       "      <th>13</th>\n",
       "      <td>visual</td>\n",
       "      <td>-1</td>\n",
       "      <td>0</td>\n",
       "      <td>-1</td>\n",
       "      <td>0</td>\n",
       "      <td>0</td>\n",
       "      <td>1</td>\n",
       "      <td>-1</td>\n",
       "      <td>-2</td>\n",
       "      <td>1</td>\n",
       "      <td>0</td>\n",
       "      <td>1</td>\n",
       "      <td>-2</td>\n",
       "      <td>-1</td>\n",
       "      <td>-2</td>\n",
       "    </tr>\n",
       "    <tr>\n",
       "      <th>14</th>\n",
       "      <td>visual</td>\n",
       "      <td>1</td>\n",
       "      <td>-1</td>\n",
       "      <td>2</td>\n",
       "      <td>1</td>\n",
       "      <td>2</td>\n",
       "      <td>-1</td>\n",
       "      <td>1</td>\n",
       "      <td>1</td>\n",
       "      <td>-1</td>\n",
       "      <td>2</td>\n",
       "      <td>-1</td>\n",
       "      <td>-2</td>\n",
       "      <td>-1</td>\n",
       "      <td>-1</td>\n",
       "    </tr>\n",
       "  </tbody>\n",
       "</table>\n",
       "</div>"
      ],
      "text/plain": [
       "   condition  G1  SP1  SP2  SP3  SP4  SP5  INV1  INV2  INV3  INV4  REAL1  \\\n",
       "0     haptic   2   -1   -2    2    2    2     2     2    -2    -2     -1   \n",
       "3     haptic   1   -1   -1    0    2    1     1    -2     1     2     -2   \n",
       "4     haptic   1   -1   -1    1    1    2     1     2    -2     2     -1   \n",
       "7     haptic   1    0   -1    1    1    1     1     1    -1     1     -1   \n",
       "8     haptic   2    1   -1    2    2    2     1    -1     0     1      0   \n",
       "11    haptic   2    0   -1   -1    1    1     1     1    -2     2     -1   \n",
       "12    haptic   1   -2   -2   -1   -1    0    -1    -2     0     1      1   \n",
       "15    haptic   2   -1   -2    2    0   -1     2     2     2     2     -1   \n",
       "1     visual   2   -1   -2    2    2    2     2     2    -2     2     -1   \n",
       "2     visual   1   -1   -2   -1    1    2    -1    -1     1     1     -1   \n",
       "5     visual   1   -1   -1    1    1    1     1     1    -1     1     -1   \n",
       "6     visual   1   -1   -2    0    1    1     2     1    -2     1      0   \n",
       "9     visual   2    1   -1    0    1    1     0    -1    -1     1     -1   \n",
       "10    visual   1    0    1   -1    1    1     1     1    -1     2     -1   \n",
       "13    visual  -1    0   -1    0    0    1    -1    -2     1     0      1   \n",
       "14    visual   1   -1    2    1    2   -1     1     1    -1     2     -1   \n",
       "\n",
       "    REAL2  REAL3  REAL4  \n",
       "0      -1     -2     -1  \n",
       "3       1      1     -2  \n",
       "4       1      0     -1  \n",
       "7       1     -1      1  \n",
       "8       1      0     -1  \n",
       "11      1     -1     -1  \n",
       "12     -1     -1     -2  \n",
       "15      0      0      0  \n",
       "1      -1     -1      1  \n",
       "2       0     -1     -1  \n",
       "5       1      0     -1  \n",
       "6       1     -2      0  \n",
       "9       1     -1     -1  \n",
       "10      1     -1     -2  \n",
       "13     -2     -1     -2  \n",
       "14     -2     -1     -1  "
      ]
     },
     "execution_count": 101,
     "metadata": {},
     "output_type": "execute_result"
    }
   ],
   "source": [
    "condition_ipq_questionnaire_results"
   ]
  },
  {
   "cell_type": "code",
   "execution_count": 102,
   "metadata": {},
   "outputs": [],
   "source": [
    "encode_pq(haptic_presence_data_frame)\n",
    "encode_pq(visual_presence_data_frame)"
   ]
  },
  {
   "cell_type": "code",
   "execution_count": 103,
   "metadata": {},
   "outputs": [],
   "source": [
    "calculate_score(haptic_presence_data_frame, 'PQ_score', pq_encoded)\n",
    "calculate_score(visual_presence_data_frame, 'PQ_score', pq_encoded)"
   ]
  },
  {
   "cell_type": "markdown",
   "metadata": {},
   "source": [
    "### remove outlier"
   ]
  },
  {
   "cell_type": "code",
   "execution_count": 104,
   "metadata": {},
   "outputs": [
    {
     "name": "stdout",
     "output_type": "stream",
     "text": [
      "    ID       Start time  Completion time      Email  Name  Id des Teilnehmers  \\\n",
      "0    1   8/3/21 0:44:17   8/3/21 1:15:07  anonymous   NaN                   1   \n",
      "3    4   8/3/21 6:36:59   8/3/21 6:46:36  anonymous   NaN                   2   \n",
      "4    5   8/3/21 6:48:21   8/3/21 7:15:04  anonymous   NaN                   3   \n",
      "7    8   8/3/21 9:23:19   8/3/21 9:34:09  anonymous   NaN                   4   \n",
      "8    9  8/3/21 10:14:36  8/3/21 10:54:38  anonymous   NaN                   5   \n",
      "11  12  8/3/21 11:33:02  8/3/21 11:43:42  anonymous   NaN                   6   \n",
      "12  13   8/4/21 9:55:13  8/4/21 10:38:32  anonymous   NaN                   7   \n",
      "15  16  8/4/21 22:47:48  8/4/21 23:03:42  anonymous   NaN                   8   \n",
      "\n",
      "   Spieltyp auf den sich dieser Fragebogen bezieht.     Dauer  \\\n",
      "0                                        Mit Haptik   4:43.96   \n",
      "3                                        Mit Haptik   1:04.34   \n",
      "4                                        Mit Haptik   1:02.34   \n",
      "7                                        Mit Haptik   0:44.55   \n",
      "8                                        Mit Haptik   2:01.25   \n",
      "11                                       Mit Haptik   0:45.04   \n",
      "12                                       Mit Haptik   1:25.93   \n",
      "15                                       Mit Haptik  00:39.18   \n",
      "\n",
      "   In der computererzeugten Welt hatte ich den Eindruck, dort gewesen zu sein...  \\\n",
      "0                                          sehr stark                              \n",
      "3                                               etwas                              \n",
      "4                                               etwas                              \n",
      "7                                               etwas                              \n",
      "8                                          sehr stark                              \n",
      "11                                         sehr stark                              \n",
      "12                                              etwas                              \n",
      "15                                         sehr stark                              \n",
      "\n",
      "   Ich hatte das Gefühl, daß die virtuelle Umgebung hinter mir weitergeht.  \\\n",
      "0                                trifft eher nicht zu                        \n",
      "3                                trifft eher nicht zu                        \n",
      "4                                trifft eher nicht zu                        \n",
      "7                                         teils-teils                        \n",
      "8                                      trifft eher zu                        \n",
      "11                                        teils-teils                        \n",
      "12                                trifft gar nicht zu                        \n",
      "15                               trifft eher nicht zu                        \n",
      "\n",
      "    ... PQ_IMM3_enc PQ_IMM4_enc PQ_IMM5_enc PQ_IMM6_enc PQ_IMM7_enc  \\\n",
      "0   ...           2           2           4           4           4   \n",
      "3   ...           3           4           2           3           3   \n",
      "4   ...           2           3           3           2           3   \n",
      "7   ...           3           3           3           3           3   \n",
      "8   ...           4           4           3           3           4   \n",
      "11  ...           2           3           3           3           3   \n",
      "12  ...           2           0           2          -1           3   \n",
      "15  ...           4           4           4           4           4   \n",
      "\n",
      "   PQ_IMM8_enc PQ_INT1_enc PQ_INT2_enc PQ_INT3_enc PQ_score  \n",
      "0            3           1           2           2       51  \n",
      "3            1           3          -2          -2       51  \n",
      "4            3           2           1          -1       64  \n",
      "7            3           3          -1          -1       67  \n",
      "8            3           2           0          -2       76  \n",
      "11           2           2          -2          -2       62  \n",
      "12           2           2          -2           0       39  \n",
      "15           3           3          -2          -2       82  \n",
      "\n",
      "[8 rows x 120 columns]\n"
     ]
    }
   ],
   "source": [
    "print(haptic_presence_data_frame)\n",
    "#haptic_presence_data_frame = haptic_presence_data_frame.drop(6,axis=\"index\") \n",
    "#haptic_presence_data_frame = haptic_presence_data_frame.drop(2,axis=\"index\") \n",
    "\n",
    "\n",
    "#visual_presence_data_frame = visual_presence_data_frame.drop(6,axis=\"index\") \n",
    "#visual_presence_data_frame = visual_presence_data_frame.drop(2,axis=\"index\") "
   ]
  },
  {
   "cell_type": "markdown",
   "metadata": {},
   "source": [
    "## Transform Data for ARTool"
   ]
  },
  {
   "cell_type": "code",
   "execution_count": 105,
   "metadata": {},
   "outputs": [],
   "source": [
    "\n",
    "haptic_and_visual_data_frame = haptic_presence_data_frame.merge(visual_presence_data_frame, left_on=\"Id des Teilnehmers\", right_on=\"Id des Teilnehmers\")\n",
    "\n",
    "haptic_and_visual_data_frame.loc[:,'haptic_treatment_order'] = haptic_and_visual_data_frame.apply(lambda row:  'hf' if (row['Completion time_x'] <= row['Completion time_y']) else 'vf', axis=1)\n",
    "\n",
    "haptic_presence_data_frame = haptic_presence_data_frame.merge(haptic_and_visual_data_frame[['Id des Teilnehmers','haptic_treatment_order']], left_on=\"Id des Teilnehmers\", right_on=\"Id des Teilnehmers\")\n",
    "visual_presence_data_frame = visual_presence_data_frame.merge(haptic_and_visual_data_frame[['Id des Teilnehmers','haptic_treatment_order']], left_on=\"Id des Teilnehmers\", right_on=\"Id des Teilnehmers\")\n",
    "\n",
    "haptic_presence_data_frame.loc[:,'treatment'] = 'h'\n",
    "visual_presence_data_frame.loc[:,'treatment'] = 'v'\n",
    "\n",
    "spatial_presence_median_artool_data_frame = pd.concat([haptic_presence_data_frame, visual_presence_data_frame])[['Id des Teilnehmers', 'haptic_treatment_order','treatment', 'spatial_presence_median']]\n",
    "spatial_presence_median_artool_data_frame.rename(columns={'Id des Teilnehmers':'id_participant'}, inplace=True)\n",
    "spatial_presence_median_artool_data_frame.to_csv(\"../study-results/spatial_presence_medians.csv\", index=False)\n"
   ]
  },
  {
   "cell_type": "markdown",
   "metadata": {},
   "source": [
    "## Explore the Sample of the Study"
   ]
  },
  {
   "cell_type": "code",
   "execution_count": 106,
   "metadata": {},
   "outputs": [
    {
     "name": "stdout",
     "output_type": "stream",
     "text": [
      "0    56\n",
      "1    18\n",
      "2    21\n",
      "3    53\n",
      "4    40\n",
      "5    31\n",
      "6    26\n",
      "7    54\n",
      "Name: age, dtype: int64\n",
      "min age: 18\n",
      "median age: 35\n",
      "mean age: 37\n",
      "max age: 56\n"
     ]
    }
   ],
   "source": [
    "print(demographic_data_frame['age'])\n",
    "print(\"min age: %d\"%(demographic_data_frame['age'].min()))\n",
    "print(\"median age: %d\"%demographic_data_frame['age'].median())\n",
    "print(\"mean age: %d\"%demographic_data_frame['age'].mean())\n",
    "print(\"max age: %d\"%(demographic_data_frame['age'].max()))"
   ]
  },
  {
   "cell_type": "code",
   "execution_count": 107,
   "metadata": {},
   "outputs": [
    {
     "name": "stdout",
     "output_type": "stream",
     "text": [
      "Männlich    4\n",
      "Weiblich    3\n",
      "Divers      1\n",
      "Name: Was ist Ihr Geschlecht?, dtype: int64\n"
     ]
    },
    {
     "data": {
      "image/png": "[encoded data removed]",
      "text/plain": [
       "<Figure size 432x288 with 1 Axes>"
      ]
     },
     "metadata": {},
     "output_type": "display_data"
    }
   ],
   "source": [
    "print(demographic_data_frame['Was ist Ihr Geschlecht?'].value_counts())\n",
    "plt.pie(demographic_data_frame['Was ist Ihr Geschlecht?'].value_counts(), labels=['male', 'female', 'diverse'],autopct='%1.0f%%')\n",
    "plt.show()"
   ]
  },
  {
   "cell_type": "code",
   "execution_count": 108,
   "metadata": {},
   "outputs": [
    {
     "name": "stdout",
     "output_type": "stream",
     "text": [
      "Nein    5\n",
      "Ja      3\n",
      "Name: Haben Sie zuvor ein mixed reality Gerät benutzt?, dtype: int64\n"
     ]
    },
    {
     "data": {
      "image/png": "[encoded data removed]",
      "text/plain": [
       "<Figure size 432x288 with 1 Axes>"
      ]
     },
     "metadata": {},
     "output_type": "display_data"
    }
   ],
   "source": [
    "print(demographic_data_frame['Haben Sie zuvor ein mixed reality Gerät benutzt?'].value_counts())\n",
    "plt.pie(demographic_data_frame['Haben Sie zuvor ein mixed reality Gerät benutzt?'].value_counts(), labels=['No', 'Yes'],autopct='%1.0f%%')\n",
    "plt.show()"
   ]
  },
  {
   "cell_type": "code",
   "execution_count": 109,
   "metadata": {},
   "outputs": [
    {
     "name": "stdout",
     "output_type": "stream",
     "text": [
      "0     0\n",
      "1     0\n",
      "2     4\n",
      "3     4\n",
      "4     0\n",
      "5     0\n",
      "6    25\n",
      "7     0\n",
      "Name: Wie viele Stunden pro Woche spielen Sie Computerspiele?, dtype: int64\n"
     ]
    },
    {
     "data": {
      "image/png": "[encoded data removed]",
      "text/plain": [
       "<Figure size 432x288 with 1 Axes>"
      ]
     },
     "metadata": {},
     "output_type": "display_data"
    }
   ],
   "source": [
    "hours_playing_computer = 'Wie viele Stunden pro Woche spielen Sie Computerspiele?'\n",
    "print(demographic_data_frame[hours_playing_computer])\n",
    "fig, ax = plt.subplots()\n",
    "\n",
    "reg_data = demographic_data_frame\n",
    "reg_data.plot(x='Id2',\n",
    "              y=hours_playing_computer,\n",
    "kind='bar',\n",
    "ax=ax)\n",
    "ax.set_ylabel('Hours playing computer games each week')\n",
    "ax.set_xlabel('Id')\n",
    "plt.show()"
   ]
  },
  {
   "cell_type": "markdown",
   "metadata": {},
   "source": [
    "## System Usability Scale"
   ]
  },
  {
   "cell_type": "code",
   "execution_count": 110,
   "metadata": {},
   "outputs": [
    {
     "name": "stdout",
     "output_type": "stream",
     "text": [
      "0    60.0\n",
      "1    92.5\n",
      "2    77.5\n",
      "3    75.0\n",
      "4    92.5\n",
      "5    87.5\n",
      "6    85.0\n",
      "7    92.5\n",
      "Name: haptic_sus_score, dtype: float64\n",
      "haptic min SUS: 60\n",
      "haptic median SUS: 86\n",
      "haptic max SUS: 92\n",
      "0    65.0\n",
      "1    92.5\n",
      "2    85.0\n",
      "3    87.5\n",
      "4    85.0\n",
      "5    75.0\n",
      "6    87.5\n",
      "7    82.5\n",
      "Name: visual_sus_score, dtype: float64\n",
      "visual min SUS: 65\n",
      "visual median SUS: 85\n",
      "visual max SUS: 92\n"
     ]
    }
   ],
   "source": [
    "haptic_presence_data_frame['haptic_sus_score']=(haptic_presence_data_frame.apply(calculate_sus_score, axis=1))\n",
    "\n",
    "visual_presence_data_frame['visual_sus_score']=(visual_presence_data_frame.apply(calculate_sus_score, axis=1))\n",
    "\n",
    "print(haptic_presence_data_frame['haptic_sus_score'])\n",
    "print(\"haptic min SUS: %d\"%(haptic_presence_data_frame['haptic_sus_score'].min()))\n",
    "print(\"haptic median SUS: %d\"%haptic_presence_data_frame['haptic_sus_score'].median())\n",
    "print(\"haptic max SUS: %d\"%(haptic_presence_data_frame['haptic_sus_score'].max()))\n",
    "print(visual_presence_data_frame['visual_sus_score'])\n",
    "print(\"visual min SUS: %d\"%(visual_presence_data_frame['visual_sus_score'].min()))\n",
    "print(\"visual median SUS: %d\"%visual_presence_data_frame['visual_sus_score'].median())\n",
    "print(\"visual max SUS: %d\"%(visual_presence_data_frame['visual_sus_score'].max()))"
   ]
  },
  {
   "cell_type": "code",
   "execution_count": 111,
   "metadata": {},
   "outputs": [
    {
     "data": {
      "image/png": "[encoded data removed]",
      "text/plain": [
       "<Figure size 432x288 with 1 Axes>"
      ]
     },
     "metadata": {},
     "output_type": "display_data"
    }
   ],
   "source": [
    "\n",
    "fig, ax = plt.subplots()\n",
    "\n",
    "plt.bar(haptic_presence_data_frame['Id des Teilnehmers'], haptic_presence_data_frame['haptic_sus_score'])\n",
    "plt.bar(visual_presence_data_frame['Id des Teilnehmers'],visual_presence_data_frame['visual_sus_score'], hatch= '.', alpha=0.5)\n",
    "\n",
    "ax.legend([\"haptics\" , \"visual\"] , ncol = 2, loc = \"upper center\", fontsize=\"x-large\")\n",
    "\n",
    "plt.xlabel('participants')\n",
    "plt.ylabel('SUS score')\n",
    "plt.show()"
   ]
  },
  {
   "cell_type": "markdown",
   "metadata": {},
   "source": [
    "## Analyze igroup presence questionnaire (IPQ)"
   ]
  },
  {
   "cell_type": "code",
   "execution_count": 112,
   "metadata": {},
   "outputs": [],
   "source": [
    "import pingouin as pg"
   ]
  },
  {
   "cell_type": "code",
   "execution_count": 113,
   "metadata": {},
   "outputs": [
    {
     "data": {
      "text/html": [
       "<div>\n",
       "<style scoped>\n",
       "    .dataframe tbody tr th:only-of-type {\n",
       "        vertical-align: middle;\n",
       "    }\n",
       "\n",
       "    .dataframe tbody tr th {\n",
       "        vertical-align: top;\n",
       "    }\n",
       "\n",
       "    .dataframe thead th {\n",
       "        text-align: right;\n",
       "    }\n",
       "</style>\n",
       "<table border=\"1\" class=\"dataframe\">\n",
       "  <thead>\n",
       "    <tr style=\"text-align: right;\">\n",
       "      <th></th>\n",
       "      <th>condition</th>\n",
       "      <th>G1</th>\n",
       "      <th>SP1</th>\n",
       "      <th>SP2</th>\n",
       "      <th>SP3</th>\n",
       "      <th>SP4</th>\n",
       "      <th>SP5</th>\n",
       "      <th>INV1</th>\n",
       "      <th>INV2</th>\n",
       "      <th>INV3</th>\n",
       "      <th>INV4</th>\n",
       "      <th>REAL1</th>\n",
       "      <th>REAL2</th>\n",
       "      <th>REAL3</th>\n",
       "      <th>REAL4</th>\n",
       "    </tr>\n",
       "  </thead>\n",
       "  <tbody>\n",
       "    <tr>\n",
       "      <th>0</th>\n",
       "      <td>haptic</td>\n",
       "      <td>2</td>\n",
       "      <td>-1</td>\n",
       "      <td>-2</td>\n",
       "      <td>2</td>\n",
       "      <td>2</td>\n",
       "      <td>2</td>\n",
       "      <td>2</td>\n",
       "      <td>2</td>\n",
       "      <td>-2</td>\n",
       "      <td>-2</td>\n",
       "      <td>-1</td>\n",
       "      <td>-1</td>\n",
       "      <td>-2</td>\n",
       "      <td>-1</td>\n",
       "    </tr>\n",
       "    <tr>\n",
       "      <th>3</th>\n",
       "      <td>haptic</td>\n",
       "      <td>1</td>\n",
       "      <td>-1</td>\n",
       "      <td>-1</td>\n",
       "      <td>0</td>\n",
       "      <td>2</td>\n",
       "      <td>1</td>\n",
       "      <td>1</td>\n",
       "      <td>-2</td>\n",
       "      <td>1</td>\n",
       "      <td>2</td>\n",
       "      <td>-2</td>\n",
       "      <td>1</td>\n",
       "      <td>1</td>\n",
       "      <td>-2</td>\n",
       "    </tr>\n",
       "    <tr>\n",
       "      <th>4</th>\n",
       "      <td>haptic</td>\n",
       "      <td>1</td>\n",
       "      <td>-1</td>\n",
       "      <td>-1</td>\n",
       "      <td>1</td>\n",
       "      <td>1</td>\n",
       "      <td>2</td>\n",
       "      <td>1</td>\n",
       "      <td>2</td>\n",
       "      <td>-2</td>\n",
       "      <td>2</td>\n",
       "      <td>-1</td>\n",
       "      <td>1</td>\n",
       "      <td>0</td>\n",
       "      <td>-1</td>\n",
       "    </tr>\n",
       "    <tr>\n",
       "      <th>7</th>\n",
       "      <td>haptic</td>\n",
       "      <td>1</td>\n",
       "      <td>0</td>\n",
       "      <td>-1</td>\n",
       "      <td>1</td>\n",
       "      <td>1</td>\n",
       "      <td>1</td>\n",
       "      <td>1</td>\n",
       "      <td>1</td>\n",
       "      <td>-1</td>\n",
       "      <td>1</td>\n",
       "      <td>-1</td>\n",
       "      <td>1</td>\n",
       "      <td>-1</td>\n",
       "      <td>1</td>\n",
       "    </tr>\n",
       "    <tr>\n",
       "      <th>8</th>\n",
       "      <td>haptic</td>\n",
       "      <td>2</td>\n",
       "      <td>1</td>\n",
       "      <td>-1</td>\n",
       "      <td>2</td>\n",
       "      <td>2</td>\n",
       "      <td>2</td>\n",
       "      <td>1</td>\n",
       "      <td>-1</td>\n",
       "      <td>0</td>\n",
       "      <td>1</td>\n",
       "      <td>0</td>\n",
       "      <td>1</td>\n",
       "      <td>0</td>\n",
       "      <td>-1</td>\n",
       "    </tr>\n",
       "    <tr>\n",
       "      <th>11</th>\n",
       "      <td>haptic</td>\n",
       "      <td>2</td>\n",
       "      <td>0</td>\n",
       "      <td>-1</td>\n",
       "      <td>-1</td>\n",
       "      <td>1</td>\n",
       "      <td>1</td>\n",
       "      <td>1</td>\n",
       "      <td>1</td>\n",
       "      <td>-2</td>\n",
       "      <td>2</td>\n",
       "      <td>-1</td>\n",
       "      <td>1</td>\n",
       "      <td>-1</td>\n",
       "      <td>-1</td>\n",
       "    </tr>\n",
       "    <tr>\n",
       "      <th>12</th>\n",
       "      <td>haptic</td>\n",
       "      <td>1</td>\n",
       "      <td>-2</td>\n",
       "      <td>-2</td>\n",
       "      <td>-1</td>\n",
       "      <td>-1</td>\n",
       "      <td>0</td>\n",
       "      <td>-1</td>\n",
       "      <td>-2</td>\n",
       "      <td>0</td>\n",
       "      <td>1</td>\n",
       "      <td>1</td>\n",
       "      <td>-1</td>\n",
       "      <td>-1</td>\n",
       "      <td>-2</td>\n",
       "    </tr>\n",
       "    <tr>\n",
       "      <th>15</th>\n",
       "      <td>haptic</td>\n",
       "      <td>2</td>\n",
       "      <td>-1</td>\n",
       "      <td>-2</td>\n",
       "      <td>2</td>\n",
       "      <td>0</td>\n",
       "      <td>-1</td>\n",
       "      <td>2</td>\n",
       "      <td>2</td>\n",
       "      <td>2</td>\n",
       "      <td>2</td>\n",
       "      <td>-1</td>\n",
       "      <td>0</td>\n",
       "      <td>0</td>\n",
       "      <td>0</td>\n",
       "    </tr>\n",
       "    <tr>\n",
       "      <th>1</th>\n",
       "      <td>visual</td>\n",
       "      <td>2</td>\n",
       "      <td>-1</td>\n",
       "      <td>-2</td>\n",
       "      <td>2</td>\n",
       "      <td>2</td>\n",
       "      <td>2</td>\n",
       "      <td>2</td>\n",
       "      <td>2</td>\n",
       "      <td>-2</td>\n",
       "      <td>2</td>\n",
       "      <td>-1</td>\n",
       "      <td>-1</td>\n",
       "      <td>-1</td>\n",
       "      <td>1</td>\n",
       "    </tr>\n",
       "    <tr>\n",
       "      <th>2</th>\n",
       "      <td>visual</td>\n",
       "      <td>1</td>\n",
       "      <td>-1</td>\n",
       "      <td>-2</td>\n",
       "      <td>-1</td>\n",
       "      <td>1</td>\n",
       "      <td>2</td>\n",
       "      <td>-1</td>\n",
       "      <td>-1</td>\n",
       "      <td>1</td>\n",
       "      <td>1</td>\n",
       "      <td>-1</td>\n",
       "      <td>0</td>\n",
       "      <td>-1</td>\n",
       "      <td>-1</td>\n",
       "    </tr>\n",
       "    <tr>\n",
       "      <th>5</th>\n",
       "      <td>visual</td>\n",
       "      <td>1</td>\n",
       "      <td>-1</td>\n",
       "      <td>-1</td>\n",
       "      <td>1</td>\n",
       "      <td>1</td>\n",
       "      <td>1</td>\n",
       "      <td>1</td>\n",
       "      <td>1</td>\n",
       "      <td>-1</td>\n",
       "      <td>1</td>\n",
       "      <td>-1</td>\n",
       "      <td>1</td>\n",
       "      <td>0</td>\n",
       "      <td>-1</td>\n",
       "    </tr>\n",
       "    <tr>\n",
       "      <th>6</th>\n",
       "      <td>visual</td>\n",
       "      <td>1</td>\n",
       "      <td>-1</td>\n",
       "      <td>-2</td>\n",
       "      <td>0</td>\n",
       "      <td>1</td>\n",
       "      <td>1</td>\n",
       "      <td>2</td>\n",
       "      <td>1</td>\n",
       "      <td>-2</td>\n",
       "      <td>1</td>\n",
       "      <td>0</td>\n",
       "      <td>1</td>\n",
       "      <td>-2</td>\n",
       "      <td>0</td>\n",
       "    </tr>\n",
       "    <tr>\n",
       "      <th>9</th>\n",
       "      <td>visual</td>\n",
       "      <td>2</td>\n",
       "      <td>1</td>\n",
       "      <td>-1</td>\n",
       "      <td>0</td>\n",
       "      <td>1</td>\n",
       "      <td>1</td>\n",
       "      <td>0</td>\n",
       "      <td>-1</td>\n",
       "      <td>-1</td>\n",
       "      <td>1</td>\n",
       "      <td>-1</td>\n",
       "      <td>1</td>\n",
       "      <td>-1</td>\n",
       "      <td>-1</td>\n",
       "    </tr>\n",
       "    <tr>\n",
       "      <th>10</th>\n",
       "      <td>visual</td>\n",
       "      <td>1</td>\n",
       "      <td>0</td>\n",
       "      <td>1</td>\n",
       "      <td>-1</td>\n",
       "      <td>1</td>\n",
       "      <td>1</td>\n",
       "      <td>1</td>\n",
       "      <td>1</td>\n",
       "      <td>-1</td>\n",
       "      <td>2</td>\n",
       "      <td>-1</td>\n",
       "      <td>1</td>\n",
       "      <td>-1</td>\n",
       "      <td>-2</td>\n",
       "    </tr>\n",
       "    <tr>\n",
       "      <th>13</th>\n",
       "      <td>visual</td>\n",
       "      <td>-1</td>\n",
       "      <td>0</td>\n",
       "      <td>-1</td>\n",
       "      <td>0</td>\n",
       "      <td>0</td>\n",
       "      <td>1</td>\n",
       "      <td>-1</td>\n",
       "      <td>-2</td>\n",
       "      <td>1</td>\n",
       "      <td>0</td>\n",
       "      <td>1</td>\n",
       "      <td>-2</td>\n",
       "      <td>-1</td>\n",
       "      <td>-2</td>\n",
       "    </tr>\n",
       "    <tr>\n",
       "      <th>14</th>\n",
       "      <td>visual</td>\n",
       "      <td>1</td>\n",
       "      <td>-1</td>\n",
       "      <td>2</td>\n",
       "      <td>1</td>\n",
       "      <td>2</td>\n",
       "      <td>-1</td>\n",
       "      <td>1</td>\n",
       "      <td>1</td>\n",
       "      <td>-1</td>\n",
       "      <td>2</td>\n",
       "      <td>-1</td>\n",
       "      <td>-2</td>\n",
       "      <td>-1</td>\n",
       "      <td>-1</td>\n",
       "    </tr>\n",
       "  </tbody>\n",
       "</table>\n",
       "</div>"
      ],
      "text/plain": [
       "   condition  G1  SP1  SP2  SP3  SP4  SP5  INV1  INV2  INV3  INV4  REAL1  \\\n",
       "0     haptic   2   -1   -2    2    2    2     2     2    -2    -2     -1   \n",
       "3     haptic   1   -1   -1    0    2    1     1    -2     1     2     -2   \n",
       "4     haptic   1   -1   -1    1    1    2     1     2    -2     2     -1   \n",
       "7     haptic   1    0   -1    1    1    1     1     1    -1     1     -1   \n",
       "8     haptic   2    1   -1    2    2    2     1    -1     0     1      0   \n",
       "11    haptic   2    0   -1   -1    1    1     1     1    -2     2     -1   \n",
       "12    haptic   1   -2   -2   -1   -1    0    -1    -2     0     1      1   \n",
       "15    haptic   2   -1   -2    2    0   -1     2     2     2     2     -1   \n",
       "1     visual   2   -1   -2    2    2    2     2     2    -2     2     -1   \n",
       "2     visual   1   -1   -2   -1    1    2    -1    -1     1     1     -1   \n",
       "5     visual   1   -1   -1    1    1    1     1     1    -1     1     -1   \n",
       "6     visual   1   -1   -2    0    1    1     2     1    -2     1      0   \n",
       "9     visual   2    1   -1    0    1    1     0    -1    -1     1     -1   \n",
       "10    visual   1    0    1   -1    1    1     1     1    -1     2     -1   \n",
       "13    visual  -1    0   -1    0    0    1    -1    -2     1     0      1   \n",
       "14    visual   1   -1    2    1    2   -1     1     1    -1     2     -1   \n",
       "\n",
       "    REAL2  REAL3  REAL4  \n",
       "0      -1     -2     -1  \n",
       "3       1      1     -2  \n",
       "4       1      0     -1  \n",
       "7       1     -1      1  \n",
       "8       1      0     -1  \n",
       "11      1     -1     -1  \n",
       "12     -1     -1     -2  \n",
       "15      0      0      0  \n",
       "1      -1     -1      1  \n",
       "2       0     -1     -1  \n",
       "5       1      0     -1  \n",
       "6       1     -2      0  \n",
       "9       1     -1     -1  \n",
       "10      1     -1     -2  \n",
       "13     -2     -1     -2  \n",
       "14     -2     -1     -1  "
      ]
     },
     "execution_count": 113,
     "metadata": {},
     "output_type": "execute_result"
    }
   ],
   "source": [
    "condition_ipq_questionnaire_results"
   ]
  },
  {
   "cell_type": "code",
   "execution_count": 114,
   "metadata": {},
   "outputs": [
    {
     "data": {
      "text/html": [
       "<div>\n",
       "<style scoped>\n",
       "    .dataframe tbody tr th:only-of-type {\n",
       "        vertical-align: middle;\n",
       "    }\n",
       "\n",
       "    .dataframe tbody tr th {\n",
       "        vertical-align: top;\n",
       "    }\n",
       "\n",
       "    .dataframe thead th {\n",
       "        text-align: right;\n",
       "    }\n",
       "</style>\n",
       "<table border=\"1\" class=\"dataframe\">\n",
       "  <thead>\n",
       "    <tr style=\"text-align: right;\">\n",
       "      <th></th>\n",
       "      <th>G1</th>\n",
       "      <th>SP1</th>\n",
       "      <th>SP2</th>\n",
       "      <th>SP3</th>\n",
       "      <th>SP4</th>\n",
       "      <th>SP5</th>\n",
       "      <th>INV1</th>\n",
       "      <th>INV2</th>\n",
       "      <th>INV3</th>\n",
       "      <th>INV4</th>\n",
       "      <th>REAL1</th>\n",
       "      <th>REAL2</th>\n",
       "      <th>REAL3</th>\n",
       "      <th>REAL4</th>\n",
       "    </tr>\n",
       "  </thead>\n",
       "  <tbody>\n",
       "    <tr>\n",
       "      <th>0</th>\n",
       "      <td>2</td>\n",
       "      <td>-1</td>\n",
       "      <td>-2</td>\n",
       "      <td>2</td>\n",
       "      <td>2</td>\n",
       "      <td>2</td>\n",
       "      <td>2</td>\n",
       "      <td>2</td>\n",
       "      <td>-2</td>\n",
       "      <td>-2</td>\n",
       "      <td>-1</td>\n",
       "      <td>-1</td>\n",
       "      <td>-2</td>\n",
       "      <td>-1</td>\n",
       "    </tr>\n",
       "    <tr>\n",
       "      <th>3</th>\n",
       "      <td>1</td>\n",
       "      <td>-1</td>\n",
       "      <td>-1</td>\n",
       "      <td>0</td>\n",
       "      <td>2</td>\n",
       "      <td>1</td>\n",
       "      <td>1</td>\n",
       "      <td>-2</td>\n",
       "      <td>1</td>\n",
       "      <td>2</td>\n",
       "      <td>-2</td>\n",
       "      <td>1</td>\n",
       "      <td>1</td>\n",
       "      <td>-2</td>\n",
       "    </tr>\n",
       "    <tr>\n",
       "      <th>4</th>\n",
       "      <td>1</td>\n",
       "      <td>-1</td>\n",
       "      <td>-1</td>\n",
       "      <td>1</td>\n",
       "      <td>1</td>\n",
       "      <td>2</td>\n",
       "      <td>1</td>\n",
       "      <td>2</td>\n",
       "      <td>-2</td>\n",
       "      <td>2</td>\n",
       "      <td>-1</td>\n",
       "      <td>1</td>\n",
       "      <td>0</td>\n",
       "      <td>-1</td>\n",
       "    </tr>\n",
       "    <tr>\n",
       "      <th>7</th>\n",
       "      <td>1</td>\n",
       "      <td>0</td>\n",
       "      <td>-1</td>\n",
       "      <td>1</td>\n",
       "      <td>1</td>\n",
       "      <td>1</td>\n",
       "      <td>1</td>\n",
       "      <td>1</td>\n",
       "      <td>-1</td>\n",
       "      <td>1</td>\n",
       "      <td>-1</td>\n",
       "      <td>1</td>\n",
       "      <td>-1</td>\n",
       "      <td>1</td>\n",
       "    </tr>\n",
       "    <tr>\n",
       "      <th>8</th>\n",
       "      <td>2</td>\n",
       "      <td>1</td>\n",
       "      <td>-1</td>\n",
       "      <td>2</td>\n",
       "      <td>2</td>\n",
       "      <td>2</td>\n",
       "      <td>1</td>\n",
       "      <td>-1</td>\n",
       "      <td>0</td>\n",
       "      <td>1</td>\n",
       "      <td>0</td>\n",
       "      <td>1</td>\n",
       "      <td>0</td>\n",
       "      <td>-1</td>\n",
       "    </tr>\n",
       "    <tr>\n",
       "      <th>11</th>\n",
       "      <td>2</td>\n",
       "      <td>0</td>\n",
       "      <td>-1</td>\n",
       "      <td>-1</td>\n",
       "      <td>1</td>\n",
       "      <td>1</td>\n",
       "      <td>1</td>\n",
       "      <td>1</td>\n",
       "      <td>-2</td>\n",
       "      <td>2</td>\n",
       "      <td>-1</td>\n",
       "      <td>1</td>\n",
       "      <td>-1</td>\n",
       "      <td>-1</td>\n",
       "    </tr>\n",
       "    <tr>\n",
       "      <th>12</th>\n",
       "      <td>1</td>\n",
       "      <td>-2</td>\n",
       "      <td>-2</td>\n",
       "      <td>-1</td>\n",
       "      <td>-1</td>\n",
       "      <td>0</td>\n",
       "      <td>-1</td>\n",
       "      <td>-2</td>\n",
       "      <td>0</td>\n",
       "      <td>1</td>\n",
       "      <td>1</td>\n",
       "      <td>-1</td>\n",
       "      <td>-1</td>\n",
       "      <td>-2</td>\n",
       "    </tr>\n",
       "    <tr>\n",
       "      <th>15</th>\n",
       "      <td>2</td>\n",
       "      <td>-1</td>\n",
       "      <td>-2</td>\n",
       "      <td>2</td>\n",
       "      <td>0</td>\n",
       "      <td>-1</td>\n",
       "      <td>2</td>\n",
       "      <td>2</td>\n",
       "      <td>2</td>\n",
       "      <td>2</td>\n",
       "      <td>-1</td>\n",
       "      <td>0</td>\n",
       "      <td>0</td>\n",
       "      <td>0</td>\n",
       "    </tr>\n",
       "    <tr>\n",
       "      <th>1</th>\n",
       "      <td>2</td>\n",
       "      <td>-1</td>\n",
       "      <td>-2</td>\n",
       "      <td>2</td>\n",
       "      <td>2</td>\n",
       "      <td>2</td>\n",
       "      <td>2</td>\n",
       "      <td>2</td>\n",
       "      <td>-2</td>\n",
       "      <td>2</td>\n",
       "      <td>-1</td>\n",
       "      <td>-1</td>\n",
       "      <td>-1</td>\n",
       "      <td>1</td>\n",
       "    </tr>\n",
       "    <tr>\n",
       "      <th>2</th>\n",
       "      <td>1</td>\n",
       "      <td>-1</td>\n",
       "      <td>-2</td>\n",
       "      <td>-1</td>\n",
       "      <td>1</td>\n",
       "      <td>2</td>\n",
       "      <td>-1</td>\n",
       "      <td>-1</td>\n",
       "      <td>1</td>\n",
       "      <td>1</td>\n",
       "      <td>-1</td>\n",
       "      <td>0</td>\n",
       "      <td>-1</td>\n",
       "      <td>-1</td>\n",
       "    </tr>\n",
       "    <tr>\n",
       "      <th>5</th>\n",
       "      <td>1</td>\n",
       "      <td>-1</td>\n",
       "      <td>-1</td>\n",
       "      <td>1</td>\n",
       "      <td>1</td>\n",
       "      <td>1</td>\n",
       "      <td>1</td>\n",
       "      <td>1</td>\n",
       "      <td>-1</td>\n",
       "      <td>1</td>\n",
       "      <td>-1</td>\n",
       "      <td>1</td>\n",
       "      <td>0</td>\n",
       "      <td>-1</td>\n",
       "    </tr>\n",
       "    <tr>\n",
       "      <th>6</th>\n",
       "      <td>1</td>\n",
       "      <td>-1</td>\n",
       "      <td>-2</td>\n",
       "      <td>0</td>\n",
       "      <td>1</td>\n",
       "      <td>1</td>\n",
       "      <td>2</td>\n",
       "      <td>1</td>\n",
       "      <td>-2</td>\n",
       "      <td>1</td>\n",
       "      <td>0</td>\n",
       "      <td>1</td>\n",
       "      <td>-2</td>\n",
       "      <td>0</td>\n",
       "    </tr>\n",
       "    <tr>\n",
       "      <th>9</th>\n",
       "      <td>2</td>\n",
       "      <td>1</td>\n",
       "      <td>-1</td>\n",
       "      <td>0</td>\n",
       "      <td>1</td>\n",
       "      <td>1</td>\n",
       "      <td>0</td>\n",
       "      <td>-1</td>\n",
       "      <td>-1</td>\n",
       "      <td>1</td>\n",
       "      <td>-1</td>\n",
       "      <td>1</td>\n",
       "      <td>-1</td>\n",
       "      <td>-1</td>\n",
       "    </tr>\n",
       "    <tr>\n",
       "      <th>10</th>\n",
       "      <td>1</td>\n",
       "      <td>0</td>\n",
       "      <td>1</td>\n",
       "      <td>-1</td>\n",
       "      <td>1</td>\n",
       "      <td>1</td>\n",
       "      <td>1</td>\n",
       "      <td>1</td>\n",
       "      <td>-1</td>\n",
       "      <td>2</td>\n",
       "      <td>-1</td>\n",
       "      <td>1</td>\n",
       "      <td>-1</td>\n",
       "      <td>-2</td>\n",
       "    </tr>\n",
       "    <tr>\n",
       "      <th>13</th>\n",
       "      <td>-1</td>\n",
       "      <td>0</td>\n",
       "      <td>-1</td>\n",
       "      <td>0</td>\n",
       "      <td>0</td>\n",
       "      <td>1</td>\n",
       "      <td>-1</td>\n",
       "      <td>-2</td>\n",
       "      <td>1</td>\n",
       "      <td>0</td>\n",
       "      <td>1</td>\n",
       "      <td>-2</td>\n",
       "      <td>-1</td>\n",
       "      <td>-2</td>\n",
       "    </tr>\n",
       "    <tr>\n",
       "      <th>14</th>\n",
       "      <td>1</td>\n",
       "      <td>-1</td>\n",
       "      <td>2</td>\n",
       "      <td>1</td>\n",
       "      <td>2</td>\n",
       "      <td>-1</td>\n",
       "      <td>1</td>\n",
       "      <td>1</td>\n",
       "      <td>-1</td>\n",
       "      <td>2</td>\n",
       "      <td>-1</td>\n",
       "      <td>-2</td>\n",
       "      <td>-1</td>\n",
       "      <td>-1</td>\n",
       "    </tr>\n",
       "  </tbody>\n",
       "</table>\n",
       "</div>"
      ],
      "text/plain": [
       "    G1  SP1  SP2  SP3  SP4  SP5  INV1  INV2  INV3  INV4  REAL1  REAL2  REAL3  \\\n",
       "0    2   -1   -2    2    2    2     2     2    -2    -2     -1     -1     -2   \n",
       "3    1   -1   -1    0    2    1     1    -2     1     2     -2      1      1   \n",
       "4    1   -1   -1    1    1    2     1     2    -2     2     -1      1      0   \n",
       "7    1    0   -1    1    1    1     1     1    -1     1     -1      1     -1   \n",
       "8    2    1   -1    2    2    2     1    -1     0     1      0      1      0   \n",
       "11   2    0   -1   -1    1    1     1     1    -2     2     -1      1     -1   \n",
       "12   1   -2   -2   -1   -1    0    -1    -2     0     1      1     -1     -1   \n",
       "15   2   -1   -2    2    0   -1     2     2     2     2     -1      0      0   \n",
       "1    2   -1   -2    2    2    2     2     2    -2     2     -1     -1     -1   \n",
       "2    1   -1   -2   -1    1    2    -1    -1     1     1     -1      0     -1   \n",
       "5    1   -1   -1    1    1    1     1     1    -1     1     -1      1      0   \n",
       "6    1   -1   -2    0    1    1     2     1    -2     1      0      1     -2   \n",
       "9    2    1   -1    0    1    1     0    -1    -1     1     -1      1     -1   \n",
       "10   1    0    1   -1    1    1     1     1    -1     2     -1      1     -1   \n",
       "13  -1    0   -1    0    0    1    -1    -2     1     0      1     -2     -1   \n",
       "14   1   -1    2    1    2   -1     1     1    -1     2     -1     -2     -1   \n",
       "\n",
       "    REAL4  \n",
       "0      -1  \n",
       "3      -2  \n",
       "4      -1  \n",
       "7       1  \n",
       "8      -1  \n",
       "11     -1  \n",
       "12     -2  \n",
       "15      0  \n",
       "1       1  \n",
       "2      -1  \n",
       "5      -1  \n",
       "6       0  \n",
       "9      -1  \n",
       "10     -2  \n",
       "13     -2  \n",
       "14     -1  "
      ]
     },
     "execution_count": 114,
     "metadata": {},
     "output_type": "execute_result"
    }
   ],
   "source": [
    "condition_ipq_questionnaire_results[ipq_columns]"
   ]
  },
  {
   "cell_type": "code",
   "execution_count": 115,
   "metadata": {},
   "outputs": [
    {
     "name": "stdout",
     "output_type": "stream",
     "text": [
      "haptic general presence score mean: 1.5\n",
      "haptic general presence score median: 1.5\n",
      "haptic general presence score variance: 0.2857142857142857\n"
     ]
    }
   ],
   "source": [
    "print(f\"haptic general presence score mean: {haptic_presence_data_frame['G1'].mean()}\")\n",
    "print(f\"haptic general presence score median: {haptic_presence_data_frame['G1'].median()}\")\n",
    "print(f\"haptic general presence score variance: {haptic_presence_data_frame['G1'].var()}\")"
   ]
  },
  {
   "cell_type": "code",
   "execution_count": 116,
   "metadata": {},
   "outputs": [
    {
     "name": "stdout",
     "output_type": "stream",
     "text": [
      "visual general presence score mean: 1.0\n",
      "visual general presence score median: 1.0\n",
      "visual general presence score variance: 0.8571428571428571\n"
     ]
    }
   ],
   "source": [
    "print(f\"visual general presence score mean: {visual_presence_data_frame['G1'].mean()}\")\n",
    "print(f\"visual general presence score median: {visual_presence_data_frame['G1'].median()}\")\n",
    "print(f\"visual general presence score variance: {visual_presence_data_frame['G1'].var()}\")"
   ]
  },
  {
   "cell_type": "code",
   "execution_count": 117,
   "metadata": {},
   "outputs": [
    {
     "data": {
      "text/plain": [
       "(0.41707112970711285, array([-0.108,  0.761]))"
      ]
     },
     "execution_count": 117,
     "metadata": {},
     "output_type": "execute_result"
    }
   ],
   "source": [
    "\n",
    "pg.cronbach_alpha(data=condition_ipq_questionnaire_results[ipq_columns])"
   ]
  },
  {
   "cell_type": "code",
   "execution_count": 118,
   "metadata": {},
   "outputs": [
    {
     "data": {
      "text/plain": [
       "(0.7576815642458101, array([0.326, 0.945]))"
      ]
     },
     "execution_count": 118,
     "metadata": {},
     "output_type": "execute_result"
    }
   ],
   "source": [
    "\n",
    "pg.cronbach_alpha(data=haptic_presence_data_frame[spatial_presence_columns])"
   ]
  },
  {
   "cell_type": "code",
   "execution_count": 119,
   "metadata": {},
   "outputs": [
    {
     "data": {
      "text/plain": [
       "(-1.1258278145695364, array([-4.914,  0.514]))"
      ]
     },
     "execution_count": 119,
     "metadata": {},
     "output_type": "execute_result"
    }
   ],
   "source": [
    "\n",
    "pg.cronbach_alpha(data=visual_presence_data_frame[spatial_presence_columns])"
   ]
  },
  {
   "cell_type": "code",
   "execution_count": 120,
   "metadata": {},
   "outputs": [
    {
     "name": "stdout",
     "output_type": "stream",
     "text": [
      "haptic spatial presence score mean: 0.75\n",
      "haptic spatial presence score median: 1.5\n",
      "haptic spatial presence score variance: 12.785714285714286\n"
     ]
    }
   ],
   "source": [
    "print(f\"haptic spatial presence score mean: {haptic_presence_data_frame['SP_score'].mean()}\")\n",
    "print(f\"haptic spatial presence score median: {haptic_presence_data_frame['SP_score'].median()}\")\n",
    "print(f\"haptic spatial presence score variance: {haptic_presence_data_frame['SP_score'].var()}\")"
   ]
  },
  {
   "cell_type": "code",
   "execution_count": 121,
   "metadata": {},
   "outputs": [
    {
     "name": "stdout",
     "output_type": "stream",
     "text": [
      "visual spatial presence score mean: 1.125\n",
      "visual spatial presence score median: 1.5\n",
      "visual spatial presence score variance: 2.6964285714285716\n"
     ]
    }
   ],
   "source": [
    "print(f\"visual spatial presence score mean: {visual_presence_data_frame['SP_score'].mean()}\")\n",
    "print(f\"visual spatial presence score median: {visual_presence_data_frame['SP_score'].median()}\")\n",
    "print(f\"visual spatial presence score variance: {visual_presence_data_frame['SP_score'].var()}\")"
   ]
  },
  {
   "cell_type": "code",
   "execution_count": 122,
   "metadata": {},
   "outputs": [
    {
     "data": {
      "text/plain": [
       "(-0.03827751196172239, array([-1.223,  0.595]))"
      ]
     },
     "execution_count": 122,
     "metadata": {},
     "output_type": "execute_result"
    }
   ],
   "source": [
    "\n",
    "pg.cronbach_alpha(data=condition_ipq_questionnaire_results[involvement_columns])"
   ]
  },
  {
   "cell_type": "code",
   "execution_count": 123,
   "metadata": {},
   "outputs": [
    {
     "name": "stdout",
     "output_type": "stream",
     "text": [
      "haptic involvement score mean: 2.0\n",
      "haptic involvement score median: 2.0\n",
      "haptic involvement score variance: 8.285714285714286\n"
     ]
    }
   ],
   "source": [
    "print(f\"haptic involvement score mean: {haptic_presence_data_frame['INV_score'].mean()}\")\n",
    "print(f\"haptic involvement score median: {haptic_presence_data_frame['INV_score'].median()}\")\n",
    "print(f\"haptic involvement score variance: {haptic_presence_data_frame['INV_score'].var()}\")"
   ]
  },
  {
   "cell_type": "code",
   "execution_count": 124,
   "metadata": {},
   "outputs": [
    {
     "name": "stdout",
     "output_type": "stream",
     "text": [
      "visual involvement score mean: 1.375\n",
      "visual involvement score median: 2.0\n",
      "visual involvement score variance: 4.553571428571429\n"
     ]
    }
   ],
   "source": [
    "print(f\"visual involvement score mean: {visual_presence_data_frame['INV_score'].mean()}\")\n",
    "print(f\"visual involvement score median: {visual_presence_data_frame['INV_score'].median()}\")\n",
    "print(f\"visual involvement score variance: {visual_presence_data_frame['INV_score'].var()}\")"
   ]
  },
  {
   "cell_type": "code",
   "execution_count": 125,
   "metadata": {},
   "outputs": [
    {
     "data": {
      "text/plain": [
       "(-0.5671812464265289, array([-2.356,  0.389]))"
      ]
     },
     "execution_count": 125,
     "metadata": {},
     "output_type": "execute_result"
    }
   ],
   "source": [
    "\n",
    "pg.cronbach_alpha(data=condition_ipq_questionnaire_results[experienced_realism_columns])"
   ]
  },
  {
   "cell_type": "code",
   "execution_count": 126,
   "metadata": {},
   "outputs": [
    {
     "name": "stdout",
     "output_type": "stream",
     "text": [
      "haptic experienced realism score mean: -1.75\n",
      "haptic experienced realism score median: -1.5\n",
      "haptic experienced realism score variance: 2.7857142857142856\n"
     ]
    }
   ],
   "source": [
    "print(f\"haptic experienced realism score mean: {haptic_presence_data_frame['REAL_score'].mean()}\")\n",
    "print(f\"haptic experienced realism score median: {haptic_presence_data_frame['REAL_score'].median()}\")\n",
    "print(f\"haptic experienced realism score variance: {haptic_presence_data_frame['REAL_score'].var()}\")"
   ]
  },
  {
   "cell_type": "code",
   "execution_count": 127,
   "metadata": {},
   "outputs": [
    {
     "name": "stdout",
     "output_type": "stream",
     "text": [
      "visual experienced realism score mean: -2.625\n",
      "visual experienced realism score median: -2.5\n",
      "visual experienced realism score variance: 1.9821428571428572\n"
     ]
    }
   ],
   "source": [
    "print(f\"visual experienced realism score mean: {visual_presence_data_frame['REAL_score'].mean()}\")\n",
    "print(f\"visual experienced realism score median: {visual_presence_data_frame['REAL_score'].median()}\")\n",
    "print(f\"visual experienced realism score variance: {visual_presence_data_frame['REAL_score'].var()}\")"
   ]
  },
  {
   "cell_type": "code",
   "execution_count": 128,
   "metadata": {},
   "outputs": [
    {
     "data": {
      "text/html": [
       "<div>\n",
       "<style scoped>\n",
       "    .dataframe tbody tr th:only-of-type {\n",
       "        vertical-align: middle;\n",
       "    }\n",
       "\n",
       "    .dataframe tbody tr th {\n",
       "        vertical-align: top;\n",
       "    }\n",
       "\n",
       "    .dataframe thead th {\n",
       "        text-align: right;\n",
       "    }\n",
       "</style>\n",
       "<table border=\"1\" class=\"dataframe\">\n",
       "  <thead>\n",
       "    <tr style=\"text-align: right;\">\n",
       "      <th></th>\n",
       "      <th>condition</th>\n",
       "      <th>G1</th>\n",
       "      <th>SP_score</th>\n",
       "      <th>INV_score</th>\n",
       "      <th>REAL_score</th>\n",
       "    </tr>\n",
       "  </thead>\n",
       "  <tbody>\n",
       "    <tr>\n",
       "      <th>0</th>\n",
       "      <td>haptic</td>\n",
       "      <td>2</td>\n",
       "      <td>3</td>\n",
       "      <td>0</td>\n",
       "      <td>-5</td>\n",
       "    </tr>\n",
       "    <tr>\n",
       "      <th>3</th>\n",
       "      <td>haptic</td>\n",
       "      <td>1</td>\n",
       "      <td>1</td>\n",
       "      <td>2</td>\n",
       "      <td>-2</td>\n",
       "    </tr>\n",
       "    <tr>\n",
       "      <th>4</th>\n",
       "      <td>haptic</td>\n",
       "      <td>1</td>\n",
       "      <td>2</td>\n",
       "      <td>3</td>\n",
       "      <td>-1</td>\n",
       "    </tr>\n",
       "    <tr>\n",
       "      <th>7</th>\n",
       "      <td>haptic</td>\n",
       "      <td>1</td>\n",
       "      <td>2</td>\n",
       "      <td>2</td>\n",
       "      <td>0</td>\n",
       "    </tr>\n",
       "    <tr>\n",
       "      <th>8</th>\n",
       "      <td>haptic</td>\n",
       "      <td>2</td>\n",
       "      <td>6</td>\n",
       "      <td>1</td>\n",
       "      <td>0</td>\n",
       "    </tr>\n",
       "    <tr>\n",
       "      <th>11</th>\n",
       "      <td>haptic</td>\n",
       "      <td>2</td>\n",
       "      <td>0</td>\n",
       "      <td>2</td>\n",
       "      <td>-2</td>\n",
       "    </tr>\n",
       "    <tr>\n",
       "      <th>12</th>\n",
       "      <td>haptic</td>\n",
       "      <td>1</td>\n",
       "      <td>-6</td>\n",
       "      <td>-2</td>\n",
       "      <td>-3</td>\n",
       "    </tr>\n",
       "    <tr>\n",
       "      <th>15</th>\n",
       "      <td>haptic</td>\n",
       "      <td>2</td>\n",
       "      <td>-2</td>\n",
       "      <td>8</td>\n",
       "      <td>-1</td>\n",
       "    </tr>\n",
       "    <tr>\n",
       "      <th>1</th>\n",
       "      <td>visual</td>\n",
       "      <td>2</td>\n",
       "      <td>3</td>\n",
       "      <td>4</td>\n",
       "      <td>-2</td>\n",
       "    </tr>\n",
       "    <tr>\n",
       "      <th>2</th>\n",
       "      <td>visual</td>\n",
       "      <td>1</td>\n",
       "      <td>-1</td>\n",
       "      <td>0</td>\n",
       "      <td>-3</td>\n",
       "    </tr>\n",
       "    <tr>\n",
       "      <th>5</th>\n",
       "      <td>visual</td>\n",
       "      <td>1</td>\n",
       "      <td>1</td>\n",
       "      <td>2</td>\n",
       "      <td>-1</td>\n",
       "    </tr>\n",
       "    <tr>\n",
       "      <th>6</th>\n",
       "      <td>visual</td>\n",
       "      <td>1</td>\n",
       "      <td>-1</td>\n",
       "      <td>2</td>\n",
       "      <td>-1</td>\n",
       "    </tr>\n",
       "    <tr>\n",
       "      <th>9</th>\n",
       "      <td>visual</td>\n",
       "      <td>2</td>\n",
       "      <td>2</td>\n",
       "      <td>-1</td>\n",
       "      <td>-2</td>\n",
       "    </tr>\n",
       "    <tr>\n",
       "      <th>10</th>\n",
       "      <td>visual</td>\n",
       "      <td>1</td>\n",
       "      <td>2</td>\n",
       "      <td>3</td>\n",
       "      <td>-3</td>\n",
       "    </tr>\n",
       "    <tr>\n",
       "      <th>13</th>\n",
       "      <td>visual</td>\n",
       "      <td>-1</td>\n",
       "      <td>0</td>\n",
       "      <td>-2</td>\n",
       "      <td>-4</td>\n",
       "    </tr>\n",
       "    <tr>\n",
       "      <th>14</th>\n",
       "      <td>visual</td>\n",
       "      <td>1</td>\n",
       "      <td>3</td>\n",
       "      <td>3</td>\n",
       "      <td>-5</td>\n",
       "    </tr>\n",
       "  </tbody>\n",
       "</table>\n",
       "</div>"
      ],
      "text/plain": [
       "   condition  G1  SP_score  INV_score  REAL_score\n",
       "0     haptic   2         3          0          -5\n",
       "3     haptic   1         1          2          -2\n",
       "4     haptic   1         2          3          -1\n",
       "7     haptic   1         2          2           0\n",
       "8     haptic   2         6          1           0\n",
       "11    haptic   2         0          2          -2\n",
       "12    haptic   1        -6         -2          -3\n",
       "15    haptic   2        -2          8          -1\n",
       "1     visual   2         3          4          -2\n",
       "2     visual   1        -1          0          -3\n",
       "5     visual   1         1          2          -1\n",
       "6     visual   1        -1          2          -1\n",
       "9     visual   2         2         -1          -2\n",
       "10    visual   1         2          3          -3\n",
       "13    visual  -1         0         -2          -4\n",
       "14    visual   1         3          3          -5"
      ]
     },
     "execution_count": 128,
     "metadata": {},
     "output_type": "execute_result"
    }
   ],
   "source": [
    "subscale_ipq_questionnaire_results"
   ]
  },
  {
   "cell_type": "code",
   "execution_count": 129,
   "metadata": {},
   "outputs": [
    {
     "data": {
      "text/html": [
       "<div>\n",
       "<style scoped>\n",
       "    .dataframe tbody tr th:only-of-type {\n",
       "        vertical-align: middle;\n",
       "    }\n",
       "\n",
       "    .dataframe tbody tr th {\n",
       "        vertical-align: top;\n",
       "    }\n",
       "\n",
       "    .dataframe thead th {\n",
       "        text-align: right;\n",
       "    }\n",
       "</style>\n",
       "<table border=\"1\" class=\"dataframe\">\n",
       "  <thead>\n",
       "    <tr style=\"text-align: right;\">\n",
       "      <th></th>\n",
       "      <th>G1</th>\n",
       "      <th>SP1</th>\n",
       "      <th>SP2</th>\n",
       "      <th>SP3</th>\n",
       "      <th>SP4</th>\n",
       "      <th>SP5</th>\n",
       "      <th>INV1</th>\n",
       "      <th>INV2</th>\n",
       "      <th>INV3</th>\n",
       "      <th>INV4</th>\n",
       "      <th>REAL1</th>\n",
       "      <th>REAL2</th>\n",
       "      <th>REAL3</th>\n",
       "      <th>REAL4</th>\n",
       "    </tr>\n",
       "  </thead>\n",
       "  <tbody>\n",
       "    <tr>\n",
       "      <th>0</th>\n",
       "      <td>2</td>\n",
       "      <td>-1</td>\n",
       "      <td>-2</td>\n",
       "      <td>2</td>\n",
       "      <td>2</td>\n",
       "      <td>2</td>\n",
       "      <td>2</td>\n",
       "      <td>2</td>\n",
       "      <td>-2</td>\n",
       "      <td>-2</td>\n",
       "      <td>-1</td>\n",
       "      <td>-1</td>\n",
       "      <td>-2</td>\n",
       "      <td>-1</td>\n",
       "    </tr>\n",
       "    <tr>\n",
       "      <th>3</th>\n",
       "      <td>1</td>\n",
       "      <td>-1</td>\n",
       "      <td>-1</td>\n",
       "      <td>0</td>\n",
       "      <td>2</td>\n",
       "      <td>1</td>\n",
       "      <td>1</td>\n",
       "      <td>-2</td>\n",
       "      <td>1</td>\n",
       "      <td>2</td>\n",
       "      <td>-2</td>\n",
       "      <td>1</td>\n",
       "      <td>1</td>\n",
       "      <td>-2</td>\n",
       "    </tr>\n",
       "    <tr>\n",
       "      <th>4</th>\n",
       "      <td>1</td>\n",
       "      <td>-1</td>\n",
       "      <td>-1</td>\n",
       "      <td>1</td>\n",
       "      <td>1</td>\n",
       "      <td>2</td>\n",
       "      <td>1</td>\n",
       "      <td>2</td>\n",
       "      <td>-2</td>\n",
       "      <td>2</td>\n",
       "      <td>-1</td>\n",
       "      <td>1</td>\n",
       "      <td>0</td>\n",
       "      <td>-1</td>\n",
       "    </tr>\n",
       "    <tr>\n",
       "      <th>7</th>\n",
       "      <td>1</td>\n",
       "      <td>0</td>\n",
       "      <td>-1</td>\n",
       "      <td>1</td>\n",
       "      <td>1</td>\n",
       "      <td>1</td>\n",
       "      <td>1</td>\n",
       "      <td>1</td>\n",
       "      <td>-1</td>\n",
       "      <td>1</td>\n",
       "      <td>-1</td>\n",
       "      <td>1</td>\n",
       "      <td>-1</td>\n",
       "      <td>1</td>\n",
       "    </tr>\n",
       "    <tr>\n",
       "      <th>8</th>\n",
       "      <td>2</td>\n",
       "      <td>1</td>\n",
       "      <td>-1</td>\n",
       "      <td>2</td>\n",
       "      <td>2</td>\n",
       "      <td>2</td>\n",
       "      <td>1</td>\n",
       "      <td>-1</td>\n",
       "      <td>0</td>\n",
       "      <td>1</td>\n",
       "      <td>0</td>\n",
       "      <td>1</td>\n",
       "      <td>0</td>\n",
       "      <td>-1</td>\n",
       "    </tr>\n",
       "    <tr>\n",
       "      <th>11</th>\n",
       "      <td>2</td>\n",
       "      <td>0</td>\n",
       "      <td>-1</td>\n",
       "      <td>-1</td>\n",
       "      <td>1</td>\n",
       "      <td>1</td>\n",
       "      <td>1</td>\n",
       "      <td>1</td>\n",
       "      <td>-2</td>\n",
       "      <td>2</td>\n",
       "      <td>-1</td>\n",
       "      <td>1</td>\n",
       "      <td>-1</td>\n",
       "      <td>-1</td>\n",
       "    </tr>\n",
       "    <tr>\n",
       "      <th>12</th>\n",
       "      <td>1</td>\n",
       "      <td>-2</td>\n",
       "      <td>-2</td>\n",
       "      <td>-1</td>\n",
       "      <td>-1</td>\n",
       "      <td>0</td>\n",
       "      <td>-1</td>\n",
       "      <td>-2</td>\n",
       "      <td>0</td>\n",
       "      <td>1</td>\n",
       "      <td>1</td>\n",
       "      <td>-1</td>\n",
       "      <td>-1</td>\n",
       "      <td>-2</td>\n",
       "    </tr>\n",
       "    <tr>\n",
       "      <th>15</th>\n",
       "      <td>2</td>\n",
       "      <td>-1</td>\n",
       "      <td>-2</td>\n",
       "      <td>2</td>\n",
       "      <td>0</td>\n",
       "      <td>-1</td>\n",
       "      <td>2</td>\n",
       "      <td>2</td>\n",
       "      <td>2</td>\n",
       "      <td>2</td>\n",
       "      <td>-1</td>\n",
       "      <td>0</td>\n",
       "      <td>0</td>\n",
       "      <td>0</td>\n",
       "    </tr>\n",
       "    <tr>\n",
       "      <th>1</th>\n",
       "      <td>2</td>\n",
       "      <td>-1</td>\n",
       "      <td>-2</td>\n",
       "      <td>2</td>\n",
       "      <td>2</td>\n",
       "      <td>2</td>\n",
       "      <td>2</td>\n",
       "      <td>2</td>\n",
       "      <td>-2</td>\n",
       "      <td>2</td>\n",
       "      <td>-1</td>\n",
       "      <td>-1</td>\n",
       "      <td>-1</td>\n",
       "      <td>1</td>\n",
       "    </tr>\n",
       "    <tr>\n",
       "      <th>2</th>\n",
       "      <td>1</td>\n",
       "      <td>-1</td>\n",
       "      <td>-2</td>\n",
       "      <td>-1</td>\n",
       "      <td>1</td>\n",
       "      <td>2</td>\n",
       "      <td>-1</td>\n",
       "      <td>-1</td>\n",
       "      <td>1</td>\n",
       "      <td>1</td>\n",
       "      <td>-1</td>\n",
       "      <td>0</td>\n",
       "      <td>-1</td>\n",
       "      <td>-1</td>\n",
       "    </tr>\n",
       "    <tr>\n",
       "      <th>5</th>\n",
       "      <td>1</td>\n",
       "      <td>-1</td>\n",
       "      <td>-1</td>\n",
       "      <td>1</td>\n",
       "      <td>1</td>\n",
       "      <td>1</td>\n",
       "      <td>1</td>\n",
       "      <td>1</td>\n",
       "      <td>-1</td>\n",
       "      <td>1</td>\n",
       "      <td>-1</td>\n",
       "      <td>1</td>\n",
       "      <td>0</td>\n",
       "      <td>-1</td>\n",
       "    </tr>\n",
       "    <tr>\n",
       "      <th>6</th>\n",
       "      <td>1</td>\n",
       "      <td>-1</td>\n",
       "      <td>-2</td>\n",
       "      <td>0</td>\n",
       "      <td>1</td>\n",
       "      <td>1</td>\n",
       "      <td>2</td>\n",
       "      <td>1</td>\n",
       "      <td>-2</td>\n",
       "      <td>1</td>\n",
       "      <td>0</td>\n",
       "      <td>1</td>\n",
       "      <td>-2</td>\n",
       "      <td>0</td>\n",
       "    </tr>\n",
       "    <tr>\n",
       "      <th>9</th>\n",
       "      <td>2</td>\n",
       "      <td>1</td>\n",
       "      <td>-1</td>\n",
       "      <td>0</td>\n",
       "      <td>1</td>\n",
       "      <td>1</td>\n",
       "      <td>0</td>\n",
       "      <td>-1</td>\n",
       "      <td>-1</td>\n",
       "      <td>1</td>\n",
       "      <td>-1</td>\n",
       "      <td>1</td>\n",
       "      <td>-1</td>\n",
       "      <td>-1</td>\n",
       "    </tr>\n",
       "    <tr>\n",
       "      <th>10</th>\n",
       "      <td>1</td>\n",
       "      <td>0</td>\n",
       "      <td>1</td>\n",
       "      <td>-1</td>\n",
       "      <td>1</td>\n",
       "      <td>1</td>\n",
       "      <td>1</td>\n",
       "      <td>1</td>\n",
       "      <td>-1</td>\n",
       "      <td>2</td>\n",
       "      <td>-1</td>\n",
       "      <td>1</td>\n",
       "      <td>-1</td>\n",
       "      <td>-2</td>\n",
       "    </tr>\n",
       "    <tr>\n",
       "      <th>13</th>\n",
       "      <td>-1</td>\n",
       "      <td>0</td>\n",
       "      <td>-1</td>\n",
       "      <td>0</td>\n",
       "      <td>0</td>\n",
       "      <td>1</td>\n",
       "      <td>-1</td>\n",
       "      <td>-2</td>\n",
       "      <td>1</td>\n",
       "      <td>0</td>\n",
       "      <td>1</td>\n",
       "      <td>-2</td>\n",
       "      <td>-1</td>\n",
       "      <td>-2</td>\n",
       "    </tr>\n",
       "    <tr>\n",
       "      <th>14</th>\n",
       "      <td>1</td>\n",
       "      <td>-1</td>\n",
       "      <td>2</td>\n",
       "      <td>1</td>\n",
       "      <td>2</td>\n",
       "      <td>-1</td>\n",
       "      <td>1</td>\n",
       "      <td>1</td>\n",
       "      <td>-1</td>\n",
       "      <td>2</td>\n",
       "      <td>-1</td>\n",
       "      <td>-2</td>\n",
       "      <td>-1</td>\n",
       "      <td>-1</td>\n",
       "    </tr>\n",
       "  </tbody>\n",
       "</table>\n",
       "</div>"
      ],
      "text/plain": [
       "    G1  SP1  SP2  SP3  SP4  SP5  INV1  INV2  INV3  INV4  REAL1  REAL2  REAL3  \\\n",
       "0    2   -1   -2    2    2    2     2     2    -2    -2     -1     -1     -2   \n",
       "3    1   -1   -1    0    2    1     1    -2     1     2     -2      1      1   \n",
       "4    1   -1   -1    1    1    2     1     2    -2     2     -1      1      0   \n",
       "7    1    0   -1    1    1    1     1     1    -1     1     -1      1     -1   \n",
       "8    2    1   -1    2    2    2     1    -1     0     1      0      1      0   \n",
       "11   2    0   -1   -1    1    1     1     1    -2     2     -1      1     -1   \n",
       "12   1   -2   -2   -1   -1    0    -1    -2     0     1      1     -1     -1   \n",
       "15   2   -1   -2    2    0   -1     2     2     2     2     -1      0      0   \n",
       "1    2   -1   -2    2    2    2     2     2    -2     2     -1     -1     -1   \n",
       "2    1   -1   -2   -1    1    2    -1    -1     1     1     -1      0     -1   \n",
       "5    1   -1   -1    1    1    1     1     1    -1     1     -1      1      0   \n",
       "6    1   -1   -2    0    1    1     2     1    -2     1      0      1     -2   \n",
       "9    2    1   -1    0    1    1     0    -1    -1     1     -1      1     -1   \n",
       "10   1    0    1   -1    1    1     1     1    -1     2     -1      1     -1   \n",
       "13  -1    0   -1    0    0    1    -1    -2     1     0      1     -2     -1   \n",
       "14   1   -1    2    1    2   -1     1     1    -1     2     -1     -2     -1   \n",
       "\n",
       "    REAL4  \n",
       "0      -1  \n",
       "3      -2  \n",
       "4      -1  \n",
       "7       1  \n",
       "8      -1  \n",
       "11     -1  \n",
       "12     -2  \n",
       "15      0  \n",
       "1       1  \n",
       "2      -1  \n",
       "5      -1  \n",
       "6       0  \n",
       "9      -1  \n",
       "10     -2  \n",
       "13     -2  \n",
       "14     -1  "
      ]
     },
     "execution_count": 129,
     "metadata": {},
     "output_type": "execute_result"
    }
   ],
   "source": [
    "condition_ipq_questionnaire_results[ipq_columns]"
   ]
  },
  {
   "cell_type": "code",
   "execution_count": 130,
   "metadata": {},
   "outputs": [],
   "source": [
    "#condition_ipq_questionnaire_results[ipq_columns] = condition_ipq_questionnaire_results[ipq_columns] + 3\n",
    "#condition_ipq_questionnaire_results"
   ]
  },
  {
   "cell_type": "code",
   "execution_count": 131,
   "metadata": {},
   "outputs": [],
   "source": [
    "# plotting expects likert from 1 and not from 0\n",
    "\n",
    "\n",
    "customLikertRange={1:['not at all','very much'] ,\n",
    "                   2:['fully disagree','fully agree'] ,\n",
    "                   3:['fully disagree','fully agree'] ,\n",
    "                   4:['did not feel','felt present'],\n",
    "                   5:['fully disagree','fully agree'] ,\n",
    "                   6:['fully disagree','fully agree'] ,\n",
    "                   7:['extremely aware','not aware at all'] ,\n",
    "                   8:['fully disagree','fully agree'],\n",
    "                   9:['fully disagree','fully agree'] ,\n",
    "                   10:['fully disagree','fully agree'] ,\n",
    "                   11:['completely real','not real at all'] ,\n",
    "                   12:['not consistent','very consistent'],\n",
    "                   13:['about as real as an imagined world','indistinguishable from the real world'] ,\n",
    "                   14:['fully disagree','fully agree'] }\n",
    "#PlotLikertOverConditions(condition_ipq_questionnaire_results,5, customLikertRange)"
   ]
  },
  {
   "cell_type": "markdown",
   "metadata": {},
   "source": [
    "### General Presence"
   ]
  },
  {
   "cell_type": "code",
   "execution_count": 132,
   "metadata": {},
   "outputs": [
    {
     "data": {
      "image/png": "[encoded data removed]",
      "text/plain": [
       "<Figure size 432x288 with 1 Axes>"
      ]
     },
     "metadata": {},
     "output_type": "display_data"
    }
   ],
   "source": [
    "\n",
    "width = 0.35\n",
    "# Creating plot\n",
    "plt.boxplot(haptic_presence_data_frame.loc[:,general_presence_encoded], widths=width, labels=['haptic'])\n",
    "\n",
    "plt.boxplot(visual_presence_data_frame.loc[:,general_presence_encoded], widths=width, positions=[width], labels=['visual'])\n",
    "\n",
    "plt.ylabel('general presence')\n",
    "# show plot\n",
    "plt.show()  "
   ]
  },
  {
   "cell_type": "code",
   "execution_count": 133,
   "metadata": {},
   "outputs": [
    {
     "name": "stderr",
     "output_type": "stream",
     "text": [
      "C:\\Users\\Malte\\anaconda3\\envs\\game-study\\lib\\site-packages\\scipy\\stats\\morestats.py:3141: UserWarning: Exact p-value calculation does not work if there are ties. Switching to normal approximation.\n",
      "  warnings.warn(\"Exact p-value calculation does not work if there are \"\n",
      "C:\\Users\\Malte\\anaconda3\\envs\\game-study\\lib\\site-packages\\scipy\\stats\\morestats.py:3155: UserWarning: Sample size too small for normal approximation.\n",
      "  warnings.warn(\"Sample size too small for normal approximation.\")\n"
     ]
    },
    {
     "data": {
      "text/plain": [
       "WilcoxonResult(statistic=0.0, pvalue=0.10247043485974937)"
      ]
     },
     "execution_count": 133,
     "metadata": {},
     "output_type": "execute_result"
    }
   ],
   "source": [
    "wilcoxon(haptic_presence_data_frame[general_presence_encoded], visual_presence_data_frame[general_presence_encoded])"
   ]
  },
  {
   "cell_type": "code",
   "execution_count": 134,
   "metadata": {},
   "outputs": [
    {
     "data": {
      "image/png": "[encoded data removed]",
      "text/plain": [
       "<Figure size 432x288 with 1 Axes>"
      ]
     },
     "metadata": {},
     "output_type": "display_data"
    }
   ],
   "source": [
    "fig, ax = plt.subplots()\n",
    "\n",
    "plt.bar(haptic_presence_data_frame['Id des Teilnehmers'], haptic_presence_data_frame[general_presence_encoded])\n",
    "plt.bar(visual_presence_data_frame['Id des Teilnehmers'],visual_presence_data_frame[general_presence_encoded], hatch= '.', alpha=0.5)\n",
    "\n",
    "ax.legend([\"haptics\" , \"visual\"] , ncol = 2, loc = \"upper center\", fontsize=\"x-large\")\n",
    "\n",
    "plt.xlabel('participants')\n",
    "plt.ylabel('general presence')\n",
    "plt.show()"
   ]
  },
  {
   "cell_type": "markdown",
   "metadata": {},
   "source": [
    "### Spatial Presence"
   ]
  },
  {
   "cell_type": "code",
   "execution_count": 135,
   "metadata": {},
   "outputs": [
    {
     "data": {
      "image/png": "[encoded data removed]",
      "text/plain": [
       "<Figure size 432x288 with 1 Axes>"
      ]
     },
     "metadata": {},
     "output_type": "display_data"
    }
   ],
   "source": [
    "width = 0.35\n",
    "# Creating plot\n",
    "plt.boxplot(haptic_presence_data_frame.loc[:,'spatial_presence_median'], widths=width, labels=['haptic'])\n",
    "\n",
    "plt.boxplot(visual_presence_data_frame.loc[:,'spatial_presence_median'], widths=width, positions=[width], labels=['visual'])\n",
    "\n",
    "plt.ylabel('spatial presence median')\n",
    "# show plot\n",
    "plt.show()  "
   ]
  },
  {
   "cell_type": "code",
   "execution_count": 136,
   "metadata": {},
   "outputs": [
    {
     "name": "stderr",
     "output_type": "stream",
     "text": [
      "C:\\Users\\Malte\\anaconda3\\envs\\game-study\\lib\\site-packages\\scipy\\stats\\morestats.py:3141: UserWarning: Exact p-value calculation does not work if there are ties. Switching to normal approximation.\n",
      "  warnings.warn(\"Exact p-value calculation does not work if there are \"\n",
      "C:\\Users\\Malte\\anaconda3\\envs\\game-study\\lib\\site-packages\\scipy\\stats\\morestats.py:3155: UserWarning: Sample size too small for normal approximation.\n",
      "  warnings.warn(\"Sample size too small for normal approximation.\")\n"
     ]
    },
    {
     "data": {
      "text/plain": [
       "WilcoxonResult(statistic=9.0, pvalue=0.7388826803635273)"
      ]
     },
     "execution_count": 136,
     "metadata": {},
     "output_type": "execute_result"
    }
   ],
   "source": [
    "wilcoxon(haptic_presence_data_frame['spatial_presence_median'], visual_presence_data_frame['spatial_presence_median'])"
   ]
  },
  {
   "cell_type": "code",
   "execution_count": 137,
   "metadata": {},
   "outputs": [
    {
     "data": {
      "image/png": "[encoded data removed]",
      "text/plain": [
       "<Figure size 432x288 with 1 Axes>"
      ]
     },
     "metadata": {},
     "output_type": "display_data"
    }
   ],
   "source": [
    "fig, ax = plt.subplots()\n",
    "\n",
    "plt.bar(haptic_presence_data_frame['Id des Teilnehmers'], haptic_presence_data_frame['spatial_presence_median'])\n",
    "plt.bar(visual_presence_data_frame['Id des Teilnehmers'],visual_presence_data_frame['spatial_presence_median'], hatch= '.', alpha=0.5)\n",
    "\n",
    "ax.legend([\"haptics\" , \"visual\"] , ncol = 2, loc = \"upper center\", fontsize=\"x-large\")\n",
    "\n",
    "plt.xlabel('participants')\n",
    "plt.ylabel('spatial presence median')\n",
    "plt.show()"
   ]
  },
  {
   "cell_type": "code",
   "execution_count": 138,
   "metadata": {},
   "outputs": [
    {
     "data": {
      "image/png": "[encoded data removed]",
      "text/plain": [
       "<Figure size 432x288 with 1 Axes>"
      ]
     },
     "metadata": {},
     "output_type": "display_data"
    }
   ],
   "source": [
    "width = 0.35\n",
    "# Creating plot\n",
    "plt.boxplot(haptic_presence_data_frame.loc[:,'SP_score'], widths=width, labels=['haptic'])\n",
    "\n",
    "plt.boxplot(visual_presence_data_frame.loc[:,'SP_score'], widths=width, positions=[width], labels=['visual'])\n",
    "\n",
    "plt.ylabel('spatial presence score')\n",
    "# show plot\n",
    "plt.show()  "
   ]
  },
  {
   "cell_type": "code",
   "execution_count": 139,
   "metadata": {},
   "outputs": [
    {
     "data": {
      "text/plain": [
       "Ttest_relResult(statistic=-0.2896345095710926, pvalue=0.7804868685868033)"
      ]
     },
     "execution_count": 139,
     "metadata": {},
     "output_type": "execute_result"
    }
   ],
   "source": [
    "ttest_rel(haptic_presence_data_frame['SP_score'], visual_presence_data_frame['SP_score'])"
   ]
  },
  {
   "cell_type": "code",
   "execution_count": 140,
   "metadata": {},
   "outputs": [
    {
     "data": {
      "text/plain": [
       "(0.17639367512700221, 0.676058371541768)"
      ]
     },
     "execution_count": 140,
     "metadata": {},
     "output_type": "execute_result"
    }
   ],
   "source": [
    "pearsonr(haptic_presence_data_frame['SP_score'], visual_presence_data_frame['SP_score'])"
   ]
  },
  {
   "cell_type": "markdown",
   "metadata": {},
   "source": [
    "### Involvement"
   ]
  },
  {
   "cell_type": "code",
   "execution_count": 141,
   "metadata": {},
   "outputs": [
    {
     "data": {
      "image/png": "[encoded data removed]",
      "text/plain": [
       "<Figure size 432x288 with 1 Axes>"
      ]
     },
     "metadata": {},
     "output_type": "display_data"
    }
   ],
   "source": [
    "width = 0.35\n",
    "# Creating plot\n",
    "plt.boxplot(haptic_presence_data_frame.loc[:,'involvement_median'], widths=width, labels=['haptic'])\n",
    "\n",
    "plt.boxplot(visual_presence_data_frame.loc[:,'involvement_median'], widths=width, positions=[width], labels=['visual'])\n",
    "\n",
    "plt.ylabel('involvement median')\n",
    "# show plot\n",
    "plt.show()  "
   ]
  },
  {
   "cell_type": "code",
   "execution_count": 142,
   "metadata": {},
   "outputs": [
    {
     "name": "stderr",
     "output_type": "stream",
     "text": [
      "C:\\Users\\Malte\\anaconda3\\envs\\game-study\\lib\\site-packages\\scipy\\stats\\morestats.py:3141: UserWarning: Exact p-value calculation does not work if there are ties. Switching to normal approximation.\n",
      "  warnings.warn(\"Exact p-value calculation does not work if there are \"\n",
      "C:\\Users\\Malte\\anaconda3\\envs\\game-study\\lib\\site-packages\\scipy\\stats\\morestats.py:3155: UserWarning: Sample size too small for normal approximation.\n",
      "  warnings.warn(\"Sample size too small for normal approximation.\")\n"
     ]
    },
    {
     "data": {
      "text/plain": [
       "WilcoxonResult(statistic=5.0, pvalue=0.4922069926558157)"
      ]
     },
     "execution_count": 142,
     "metadata": {},
     "output_type": "execute_result"
    }
   ],
   "source": [
    "wilcoxon(haptic_presence_data_frame['involvement_median'], visual_presence_data_frame['involvement_median'])"
   ]
  },
  {
   "cell_type": "code",
   "execution_count": 143,
   "metadata": {},
   "outputs": [
    {
     "data": {
      "image/png": "[encoded data removed]",
      "text/plain": [
       "<Figure size 432x288 with 1 Axes>"
      ]
     },
     "metadata": {},
     "output_type": "display_data"
    }
   ],
   "source": [
    "fig, ax = plt.subplots()\n",
    "\n",
    "plt.bar(haptic_presence_data_frame['Id des Teilnehmers'], haptic_presence_data_frame['involvement_median'])\n",
    "plt.bar(visual_presence_data_frame['Id des Teilnehmers'],visual_presence_data_frame['involvement_median'], hatch= '.', alpha=0.5)\n",
    "\n",
    "ax.legend([\"haptics\" , \"visual\"] , ncol = 2, loc = \"upper center\", fontsize=\"x-large\")\n",
    "\n",
    "plt.xlabel('participants')\n",
    "plt.ylabel('involvement median')\n",
    "plt.show()"
   ]
  },
  {
   "cell_type": "code",
   "execution_count": 144,
   "metadata": {},
   "outputs": [
    {
     "data": {
      "image/png": "[encoded data removed]",
      "text/plain": [
       "<Figure size 432x288 with 1 Axes>"
      ]
     },
     "metadata": {},
     "output_type": "display_data"
    }
   ],
   "source": [
    "width = 0.35\n",
    "# Creating plot\n",
    "plt.boxplot(haptic_presence_data_frame.loc[:,'INV_score'], widths=width, labels=['haptic'])\n",
    "\n",
    "plt.boxplot(visual_presence_data_frame.loc[:,'INV_score'], widths=width, positions=[width], labels=['visual'])\n",
    "\n",
    "plt.ylabel('involvement score')\n",
    "# show plot\n",
    "plt.show()  "
   ]
  },
  {
   "cell_type": "code",
   "execution_count": 145,
   "metadata": {},
   "outputs": [
    {
     "data": {
      "text/plain": [
       "Ttest_relResult(statistic=0.6759578833420166, pvalue=0.5207666929905368)"
      ]
     },
     "execution_count": 145,
     "metadata": {},
     "output_type": "execute_result"
    }
   ],
   "source": [
    "ttest_rel(haptic_presence_data_frame['INV_score'], visual_presence_data_frame['INV_score'])"
   ]
  },
  {
   "cell_type": "code",
   "execution_count": 146,
   "metadata": {},
   "outputs": [
    {
     "data": {
      "text/plain": [
       "(0.4884051123325138, 0.21944878733209372)"
      ]
     },
     "execution_count": 146,
     "metadata": {},
     "output_type": "execute_result"
    }
   ],
   "source": [
    "pearsonr(haptic_presence_data_frame['INV_score'], visual_presence_data_frame['INV_score'])"
   ]
  },
  {
   "cell_type": "markdown",
   "metadata": {},
   "source": [
    "### Experienced Realism"
   ]
  },
  {
   "cell_type": "code",
   "execution_count": 147,
   "metadata": {},
   "outputs": [
    {
     "data": {
      "image/png": "[encoded data removed]",
      "text/plain": [
       "<Figure size 432x288 with 1 Axes>"
      ]
     },
     "metadata": {},
     "output_type": "display_data"
    }
   ],
   "source": [
    "width = 0.35\n",
    "# Creating plot\n",
    "plt.boxplot(haptic_presence_data_frame.loc[:,'experienced_realism_median'], widths=width, labels=['haptic'])\n",
    "\n",
    "plt.boxplot(visual_presence_data_frame.loc[:,'experienced_realism_median'], widths=width, positions=[width], labels=['visual'])\n",
    "\n",
    "plt.ylabel('experienced realism median')\n",
    "# show plot\n",
    "plt.show()  "
   ]
  },
  {
   "cell_type": "code",
   "execution_count": 148,
   "metadata": {},
   "outputs": [
    {
     "data": {
      "image/png": "[encoded data removed]",
      "text/plain": [
       "<Figure size 432x288 with 1 Axes>"
      ]
     },
     "metadata": {},
     "output_type": "display_data"
    }
   ],
   "source": [
    "fig, ax = plt.subplots()\n",
    "\n",
    "plt.bar(haptic_presence_data_frame['Id des Teilnehmers'], haptic_presence_data_frame['experienced_realism_median'])\n",
    "plt.bar(visual_presence_data_frame['Id des Teilnehmers'],visual_presence_data_frame['experienced_realism_median'], hatch= '.', alpha=0.5)\n",
    "\n",
    "ax.legend([\"haptics\" , \"visual\"] , ncol = 2, loc = \"upper center\", fontsize=\"x-large\")\n",
    "\n",
    "plt.xlabel('participants')\n",
    "plt.ylabel('experienced realism median')\n",
    "plt.show()"
   ]
  },
  {
   "cell_type": "code",
   "execution_count": 149,
   "metadata": {},
   "outputs": [
    {
     "name": "stderr",
     "output_type": "stream",
     "text": [
      "C:\\Users\\Malte\\anaconda3\\envs\\game-study\\lib\\site-packages\\scipy\\stats\\morestats.py:3141: UserWarning: Exact p-value calculation does not work if there are ties. Switching to normal approximation.\n",
      "  warnings.warn(\"Exact p-value calculation does not work if there are \"\n",
      "C:\\Users\\Malte\\anaconda3\\envs\\game-study\\lib\\site-packages\\scipy\\stats\\morestats.py:3155: UserWarning: Sample size too small for normal approximation.\n",
      "  warnings.warn(\"Sample size too small for normal approximation.\")\n"
     ]
    },
    {
     "data": {
      "text/plain": [
       "WilcoxonResult(statistic=0.0, pvalue=0.0633177868300456)"
      ]
     },
     "execution_count": 149,
     "metadata": {},
     "output_type": "execute_result"
    }
   ],
   "source": [
    "wilcoxon(haptic_presence_data_frame['experienced_realism_median'], visual_presence_data_frame['experienced_realism_median'])"
   ]
  },
  {
   "cell_type": "code",
   "execution_count": 150,
   "metadata": {},
   "outputs": [
    {
     "data": {
      "image/png": "[encoded data removed]",
      "text/plain": [
       "<Figure size 432x288 with 1 Axes>"
      ]
     },
     "metadata": {},
     "output_type": "display_data"
    }
   ],
   "source": [
    "width = 0.35\n",
    "# Creating plot\n",
    "plt.boxplot(haptic_presence_data_frame.loc[:,'REAL_score'], widths=width, labels=['haptic'])\n",
    "\n",
    "plt.boxplot(visual_presence_data_frame.loc[:,'REAL_score'], widths=width, positions=[width], labels=['visual'])\n",
    "\n",
    "plt.ylabel('experienced realism score')\n",
    "# show plot\n",
    "plt.show()  "
   ]
  },
  {
   "cell_type": "code",
   "execution_count": 151,
   "metadata": {},
   "outputs": [
    {
     "data": {
      "text/plain": [
       "Ttest_relResult(statistic=1.2630711924548441, pvalue=0.24700652745365284)"
      ]
     },
     "execution_count": 151,
     "metadata": {},
     "output_type": "execute_result"
    }
   ],
   "source": [
    "ttest_rel(haptic_presence_data_frame['REAL_score'], visual_presence_data_frame['REAL_score'])"
   ]
  },
  {
   "cell_type": "code",
   "execution_count": 152,
   "metadata": {},
   "outputs": [
    {
     "data": {
      "text/plain": [
       "(0.19758299278793973, 0.6390607791028851)"
      ]
     },
     "execution_count": 152,
     "metadata": {},
     "output_type": "execute_result"
    }
   ],
   "source": [
    "pearsonr(haptic_presence_data_frame['REAL_score'], visual_presence_data_frame['REAL_score'])"
   ]
  },
  {
   "cell_type": "markdown",
   "metadata": {},
   "source": [
    "## total IPQ score"
   ]
  },
  {
   "cell_type": "code",
   "execution_count": 153,
   "metadata": {},
   "outputs": [
    {
     "name": "stdout",
     "output_type": "stream",
     "text": [
      "haptic total IPQ score mean: 2.5\n",
      "haptic total IPQ realism score median: 3.5\n",
      "haptic total IPQ realism score variance: 34.0\n"
     ]
    }
   ],
   "source": [
    "print(f\"haptic total IPQ score mean: {haptic_presence_data_frame['IPQ_score'].mean()}\")\n",
    "print(f\"haptic total IPQ realism score median: {haptic_presence_data_frame['IPQ_score'].median()}\")\n",
    "print(f\"haptic total IPQ realism score variance: {haptic_presence_data_frame['IPQ_score'].var()}\")"
   ]
  },
  {
   "cell_type": "code",
   "execution_count": 154,
   "metadata": {},
   "outputs": [
    {
     "name": "stdout",
     "output_type": "stream",
     "text": [
      "visual total IPQ score mean: 0.875\n",
      "visual total IPQ realism score median: 1.5\n",
      "visual total IPQ realism score variance: 17.839285714285715\n"
     ]
    }
   ],
   "source": [
    "print(f\"visual total IPQ score mean: {visual_presence_data_frame['IPQ_score'].mean()}\")\n",
    "print(f\"visual total IPQ realism score median: {visual_presence_data_frame['IPQ_score'].median()}\")\n",
    "print(f\"visual total IPQ realism score variance: {visual_presence_data_frame['IPQ_score'].var()}\")"
   ]
  },
  {
   "cell_type": "code",
   "execution_count": 155,
   "metadata": {},
   "outputs": [
    {
     "name": "stdout",
     "output_type": "stream",
     "text": [
      "0     0\n",
      "1     2\n",
      "2     5\n",
      "3     5\n",
      "4     9\n",
      "5     2\n",
      "6   -10\n",
      "7     7\n",
      "Name: IPQ_score, dtype: int64\n",
      "0    7\n",
      "1   -3\n",
      "2    3\n",
      "3    1\n",
      "4    1\n",
      "5    3\n",
      "6   -7\n",
      "7    2\n",
      "Name: IPQ_score, dtype: int64\n"
     ]
    }
   ],
   "source": [
    "print(haptic_presence_data_frame['IPQ_score'])\n",
    "print(visual_presence_data_frame['IPQ_score'])"
   ]
  },
  {
   "cell_type": "code",
   "execution_count": 156,
   "metadata": {},
   "outputs": [],
   "source": [
    "def show_mean_percentage_change(starting_value, final_value):\n",
    "    starting_value_mean = starting_value.mean()\n",
    "    final_value_mean = final_value.mean()\n",
    "    percentage_change = (final_value_mean - starting_value_mean)/abs(starting_value_mean)\n",
    "    if(percentage_change >= 0):\n",
    "        print(f\"{percentage_change * 100}% increase.\")\n",
    "    else:\n",
    "        print(f\"{abs(percentage_change * 100)}% decrease.\")"
   ]
  },
  {
   "cell_type": "code",
   "execution_count": 159,
   "metadata": {},
   "outputs": [
    {
     "name": "stdout",
     "output_type": "stream",
     "text": [
      "IPQ change percentage:\n",
      "65.0% decrease.\n",
      "mean IPQ_score increases 0    0.000000\n",
      "1   -0.666667\n",
      "2    1.666667\n",
      "3    5.000000\n",
      "4    9.000000\n",
      "5    0.666667\n",
      "6    1.428571\n",
      "7    3.500000\n",
      "Name: IPQ_score, dtype: float64 with haptics\n"
     ]
    }
   ],
   "source": [
    "print(\"IPQ change percentage:\")\n",
    "show_mean_percentage_change(haptic_presence_data_frame['IPQ_score'],visual_presence_data_frame['IPQ_score'])\n",
    "\n",
    "print(f\"mean IPQ_score increases {haptic_presence_data_frame['IPQ_score'].mean() / visual_presence_data_frame['IPQ_score'].mean()} with haptics\")\n"
   ]
  },
  {
   "cell_type": "code",
   "execution_count": 73,
   "metadata": {},
   "outputs": [
    {
     "data": {
      "image/png": "[encoded data removed]",
      "text/plain": [
       "<Figure size 432x288 with 1 Axes>"
      ]
     },
     "metadata": {},
     "output_type": "display_data"
    }
   ],
   "source": [
    "\n",
    "fig, ax = plt.subplots()\n",
    "\n",
    "plt.bar(haptic_presence_data_frame['Id des Teilnehmers'], haptic_presence_data_frame['IPQ_score'])\n",
    "plt.bar(visual_presence_data_frame['Id des Teilnehmers'],visual_presence_data_frame['IPQ_score'], hatch= '.', alpha=0.5)\n",
    "\n",
    "ax.legend([\"haptics\" , \"visual\"] , ncol = 2, loc = \"upper center\", fontsize=\"x-large\")\n",
    "\n",
    "plt.xlabel('participants')\n",
    "plt.ylabel('IPQ score')\n",
    "plt.show()"
   ]
  },
  {
   "cell_type": "code",
   "execution_count": 74,
   "metadata": {},
   "outputs": [
    {
     "data": {
      "image/png": "[encoded data removed]",
      "text/plain": [
       "<Figure size 432x288 with 1 Axes>"
      ]
     },
     "metadata": {},
     "output_type": "display_data"
    }
   ],
   "source": [
    "width = 0.35\n",
    "# Creating plot\n",
    "plt.boxplot(haptic_presence_data_frame.loc[:,'IPQ_score'], widths=width, labels=['haptic'])\n",
    "\n",
    "plt.boxplot(visual_presence_data_frame.loc[:,'IPQ_score'], widths=width, positions=[width], labels=['visual'])\n",
    "\n",
    "plt.ylabel('IPQ score')\n",
    "# show plot\n",
    "plt.show()  "
   ]
  },
  {
   "cell_type": "code",
   "execution_count": 75,
   "metadata": {},
   "outputs": [
    {
     "data": {
      "text/plain": [
       "Ttest_relResult(statistic=0.9275578884164785, pvalue=0.3845038555471322)"
      ]
     },
     "execution_count": 75,
     "metadata": {},
     "output_type": "execute_result"
    }
   ],
   "source": [
    "ttest_rel(haptic_presence_data_frame['IPQ_score'], visual_presence_data_frame['IPQ_score'])"
   ]
  },
  {
   "cell_type": "code",
   "execution_count": 76,
   "metadata": {},
   "outputs": [
    {
     "name": "stdout",
     "output_type": "stream",
     "text": [
      "The p-value is 0.725\n"
     ]
    }
   ],
   "source": [
    "bootstrap_t_test(haptic_presence_data_frame['IPQ_score'], visual_presence_data_frame['IPQ_score'])"
   ]
  },
  {
   "cell_type": "markdown",
   "metadata": {},
   "source": [
    "# Witmer, Jerome, & Singer’s (2005) 29-item Presence Questionnaire (PQ Version 3)"
   ]
  },
  {
   "cell_type": "code",
   "execution_count": 77,
   "metadata": {},
   "outputs": [
    {
     "data": {
      "image/png": "[encoded data removed]",
      "text/plain": [
       "<Figure size 432x288 with 1 Axes>"
      ]
     },
     "metadata": {},
     "output_type": "display_data"
    }
   ],
   "source": [
    "width = 0.35\n",
    "# Creating plot\n",
    "plt.boxplot(haptic_presence_data_frame.loc[:,'PQ_score'], widths=width, labels=['haptic'])\n",
    "\n",
    "plt.boxplot(visual_presence_data_frame.loc[:,'PQ_score'], widths=width, positions=[width], labels=['visual'])\n",
    "\n",
    "plt.ylabel('PQ score')\n",
    "# show plot\n",
    "plt.show()  "
   ]
  },
  {
   "cell_type": "code",
   "execution_count": 78,
   "metadata": {},
   "outputs": [
    {
     "data": {
      "text/plain": [
       "Ttest_relResult(statistic=0.7469322898222291, pvalue=0.4794359271023806)"
      ]
     },
     "execution_count": 78,
     "metadata": {},
     "output_type": "execute_result"
    }
   ],
   "source": [
    "ttest_rel(haptic_presence_data_frame['PQ_score'], visual_presence_data_frame['PQ_score'])"
   ]
  },
  {
   "cell_type": "code",
   "execution_count": 79,
   "metadata": {},
   "outputs": [
    {
     "name": "stdout",
     "output_type": "stream",
     "text": [
      "Ich konnte die Ereignisse gut kontrollieren.\n",
      "PQ_INV1_enc\n",
      "0   -1\n",
      "1    2\n",
      "2    3\n",
      "3    2\n",
      "4    2\n",
      "5    3\n",
      "6    2\n",
      "7    4\n",
      "Name: PQ_INV1_enc, dtype: int8\n",
      "0    3\n",
      "1    2\n",
      "2    3\n",
      "3    2\n",
      "4    2\n",
      "5    0\n",
      "6    2\n",
      "7    3\n",
      "Name: PQ_INV1_enc, dtype: int8\n"
     ]
    },
    {
     "data": {
      "image/png": "[encoded data removed]",
      "text/plain": [
       "<Figure size 432x288 with 1 Axes>"
      ]
     },
     "metadata": {},
     "output_type": "display_data"
    },
    {
     "name": "stdout",
     "output_type": "stream",
     "text": [
      "Ich habe die Interaktion mit der virtuellen Umgebung als natürlich empfunden.\n",
      "PQ_INV3_enc\n",
      "0    0\n",
      "1    3\n",
      "2    3\n",
      "3    3\n",
      "4    3\n",
      "5    3\n",
      "6    2\n",
      "7    2\n",
      "Name: PQ_INV3_enc, dtype: int8\n",
      "0    3\n",
      "1    3\n",
      "2    3\n",
      "3    0\n",
      "4    2\n",
      "5    0\n",
      "6    2\n",
      "7    2\n",
      "Name: PQ_INV3_enc, dtype: int8\n"
     ]
    },
    {
     "data": {
      "image/png": "[encoded data removed]",
      "text/plain": [
       "<Figure size 432x288 with 1 Axes>"
      ]
     },
     "metadata": {},
     "output_type": "display_data"
    },
    {
     "name": "stdout",
     "output_type": "stream",
     "text": [
      "Die visuellen Aspekte haben mich stark eingezogen.\n",
      "PQ_INV4_enc\n",
      "0    3\n",
      "1    4\n",
      "2    3\n",
      "3    3\n",
      "4    3\n",
      "5    3\n",
      "6    0\n",
      "7    4\n",
      "Name: PQ_INV4_enc, dtype: int8\n",
      "0    2\n",
      "1    4\n",
      "2    3\n",
      "3    3\n",
      "4    3\n",
      "5    4\n",
      "6    2\n",
      "7    4\n",
      "Name: PQ_INV4_enc, dtype: int8\n"
     ]
    },
    {
     "data": {
      "image/png": "[encoded data removed]",
      "text/plain": [
       "<Figure size 432x288 with 1 Axes>"
      ]
     },
     "metadata": {},
     "output_type": "display_data"
    },
    {
     "name": "stdout",
     "output_type": "stream",
     "text": [
      "Ich finde das Kontrollieren der Bewegung natürlich.\n",
      "PQ_INV5_enc\n",
      "0    2\n",
      "1    0\n",
      "2    4\n",
      "3    3\n",
      "4    3\n",
      "5    3\n",
      "6    0\n",
      "7    2\n",
      "Name: PQ_INV5_enc, dtype: int8\n",
      "0    3\n",
      "1   -1\n",
      "2    2\n",
      "3    3\n",
      "4    3\n",
      "5    0\n",
      "6    3\n",
      "7    2\n",
      "Name: PQ_INV5_enc, dtype: int8\n"
     ]
    },
    {
     "data": {
      "image/png": "[encoded data removed]",
      "text/plain": [
       "<Figure size 432x288 with 1 Axes>"
      ]
     },
     "metadata": {},
     "output_type": "display_data"
    },
    {
     "name": "stdout",
     "output_type": "stream",
     "text": [
      "Ich finde die Bewegungen von Objekten im virtuellen Raum waren überzeugend.\n",
      "PQ_INV6_enc\n",
      "0    0\n",
      "1    4\n",
      "2    3\n",
      "3    3\n",
      "4    3\n",
      "5    2\n",
      "6    3\n",
      "7    3\n",
      "Name: PQ_INV6_enc, dtype: int8\n",
      "0    2\n",
      "1    3\n",
      "2    3\n",
      "3    3\n",
      "4    3\n",
      "5    3\n",
      "6    3\n",
      "7    4\n",
      "Name: PQ_INV6_enc, dtype: int8\n"
     ]
    },
    {
     "data": {
      "image/png": "[encoded data removed]",
      "text/plain": [
       "<Figure size 432x288 with 1 Axes>"
      ]
     },
     "metadata": {},
     "output_type": "display_data"
    },
    {
     "name": "stdout",
     "output_type": "stream",
     "text": [
      "Ich konnten die Umgebung mit meinen Augen leicht durchsuchen.\n",
      "PQ_INV8_enc\n",
      "0    3\n",
      "1    3\n",
      "2    3\n",
      "3    3\n",
      "4    3\n",
      "5    3\n",
      "6    4\n",
      "7    4\n",
      "Name: PQ_INV8_enc, dtype: int8\n",
      "0    4\n",
      "1    3\n",
      "2    3\n",
      "3    3\n",
      "4    3\n",
      "5    2\n",
      "6    4\n",
      "7    4\n",
      "Name: PQ_INV8_enc, dtype: int8\n"
     ]
    },
    {
     "data": {
      "image/png": "[encoded data removed]",
      "text/plain": [
       "<Figure size 432x288 with 1 Axes>"
      ]
     },
     "metadata": {},
     "output_type": "display_data"
    },
    {
     "name": "stdout",
     "output_type": "stream",
     "text": [
      "Ich empfand es natürlich sich durch die virtuelle Welt zu bewegen.\n",
      "PQ_INV9_enc\n",
      "0    2\n",
      "1    3\n",
      "2    3\n",
      "3    3\n",
      "4    3\n",
      "5    2\n",
      "6    4\n",
      "7    3\n",
      "Name: PQ_INV9_enc, dtype: int8\n",
      "0    4\n",
      "1    3\n",
      "2    2\n",
      "3    3\n",
      "4    2\n",
      "5    2\n",
      "6    4\n",
      "7    2\n",
      "Name: PQ_INV9_enc, dtype: int8\n"
     ]
    },
    {
     "data": {
      "image/png": "[encoded data removed]",
      "text/plain": [
       "<Figure size 432x288 with 1 Axes>"
      ]
     },
     "metadata": {},
     "output_type": "display_data"
    },
    {
     "name": "stdout",
     "output_type": "stream",
     "text": [
      "Ich konnte die Objekte in der virtuellen Umgebung gut bewegen bzw. manipulieren.\n",
      "PQ_INV10_enc\n",
      "0   -1\n",
      "1    0\n",
      "2    2\n",
      "3    3\n",
      "4    3\n",
      "5    3\n",
      "6    0\n",
      "7    4\n",
      "Name: PQ_INV10_enc, dtype: int8\n",
      "0    2\n",
      "1    0\n",
      "2    2\n",
      "3    3\n",
      "4    3\n",
      "5    0\n",
      "6    2\n",
      "7    2\n",
      "Name: PQ_INV10_enc, dtype: int8\n"
     ]
    },
    {
     "data": {
      "image/png": "[encoded data removed]",
      "text/plain": [
       "<Figure size 432x288 with 1 Axes>"
      ]
     },
     "metadata": {},
     "output_type": "display_data"
    },
    {
     "name": "stdout",
     "output_type": "stream",
     "text": [
      "Ich war in dem virtuellen Erlebnis stark einbezogen.\n",
      "PQ_INV11_enc\n",
      "0    3\n",
      "1    4\n",
      "2    2\n",
      "3    3\n",
      "4    3\n",
      "5    3\n",
      "6    1\n",
      "7    4\n",
      "Name: PQ_INV11_enc, dtype: int8\n",
      "0    4\n",
      "1    4\n",
      "2    2\n",
      "3    3\n",
      "4    3\n",
      "5    3\n",
      "6    1\n",
      "7    3\n",
      "Name: PQ_INV11_enc, dtype: int8\n"
     ]
    },
    {
     "data": {
      "image/png": "[encoded data removed]",
      "text/plain": [
       "<Figure size 432x288 with 1 Axes>"
      ]
     },
     "metadata": {},
     "output_type": "display_data"
    },
    {
     "name": "stdout",
     "output_type": "stream",
     "text": [
      "Ich finde es sehr einfach Objekte durch physische Interaktionen (z.B. Berührung) zu identifizieren.\n",
      "PQ_INV12_enc\n",
      "0    1\n",
      "1   -1\n",
      "2    3\n",
      "3    3\n",
      "4    3\n",
      "5    2\n",
      "6    2\n",
      "7    3\n",
      "Name: PQ_INV12_enc, dtype: int8\n",
      "0    3\n",
      "1   -2\n",
      "2    3\n",
      "3    2\n",
      "4    3\n",
      "5    0\n",
      "6    3\n",
      "7   -1\n",
      "Name: PQ_INV12_enc, dtype: int8\n"
     ]
    },
    {
     "data": {
      "image/png": "[encoded data removed]",
      "text/plain": [
       "<Figure size 432x288 with 1 Axes>"
      ]
     },
     "metadata": {},
     "output_type": "display_data"
    },
    {
     "name": "stdout",
     "output_type": "stream",
     "text": [
      "Das Audio hat mich stark eingezogen.\n",
      "PQ_SEN1_enc\n",
      "0    1\n",
      "1    3\n",
      "2    2\n",
      "3    0\n",
      "4    2\n",
      "5    3\n",
      "6   -2\n",
      "7    3\n",
      "Name: PQ_SEN1_enc, dtype: int8\n",
      "0    1\n",
      "1    2\n",
      "2    1\n",
      "3    2\n",
      "4    2\n",
      "5    3\n",
      "6   -2\n",
      "7    4\n",
      "Name: PQ_SEN1_enc, dtype: int8\n"
     ]
    },
    {
     "data": {
      "image/png": "[encoded data removed]",
      "text/plain": [
       "<Figure size 432x288 with 1 Axes>"
      ]
     },
     "metadata": {},
     "output_type": "display_data"
    },
    {
     "name": "stdout",
     "output_type": "stream",
     "text": [
      "Ich konnte verschiedene Geräusche gut unterscheiden.\n",
      "PQ_SEN2_enc\n",
      "0    2\n",
      "1   -1\n",
      "2    2\n",
      "3    2\n",
      "4    3\n",
      "5    3\n",
      "6    2\n",
      "7    4\n",
      "Name: PQ_SEN2_enc, dtype: int8\n",
      "0    3\n",
      "1   -1\n",
      "2    1\n",
      "3    3\n",
      "4    2\n",
      "5    3\n",
      "6   -1\n",
      "7    4\n",
      "Name: PQ_SEN2_enc, dtype: int8\n"
     ]
    },
    {
     "data": {
      "image/png": "[encoded data removed]",
      "text/plain": [
       "<Figure size 432x288 with 1 Axes>"
      ]
     },
     "metadata": {},
     "output_type": "display_data"
    },
    {
     "name": "stdout",
     "output_type": "stream",
     "text": [
      "Ich konnte Geräusche gut lokalisieren.\n",
      "PQ_SEN3_enc\n",
      "0    2\n",
      "1   -1\n",
      "2    2\n",
      "3    2\n",
      "4    3\n",
      "5    3\n",
      "6    0\n",
      "7    3\n",
      "Name: PQ_SEN3_enc, dtype: int8\n",
      "0    2\n",
      "1   -2\n",
      "2    1\n",
      "3    3\n",
      "4    2\n",
      "5    3\n",
      "6    0\n",
      "7    4\n",
      "Name: PQ_SEN3_enc, dtype: int8\n"
     ]
    },
    {
     "data": {
      "image/png": "[encoded data removed]",
      "text/plain": [
       "<Figure size 432x288 with 1 Axes>"
      ]
     },
     "metadata": {},
     "output_type": "display_data"
    },
    {
     "name": "stdout",
     "output_type": "stream",
     "text": [
      "Ich konnte die Umgebung gut mit meiner Hand wahrnehmen.\n",
      "PQ_SEN4_enc\n",
      "0    3\n",
      "1    3\n",
      "2    2\n",
      "3    3\n",
      "4    3\n",
      "5    3\n",
      "6   -1\n",
      "7    3\n",
      "Name: PQ_SEN4_enc, dtype: int8\n",
      "0    1\n",
      "1   -1\n",
      "2    1\n",
      "3    2\n",
      "4    3\n",
      "5    0\n",
      "6    2\n",
      "7    0\n",
      "Name: PQ_SEN4_enc, dtype: int8\n"
     ]
    },
    {
     "data": {
      "image/png": "[encoded data removed]",
      "text/plain": [
       "<Figure size 432x288 with 1 Axes>"
      ]
     },
     "metadata": {},
     "output_type": "display_data"
    },
    {
     "name": "stdout",
     "output_type": "stream",
     "text": [
      "Ich konnte Objekte aus nächster Nähe beobachten.\n",
      "PQ_SEN5_enc\n",
      "0    3\n",
      "1    3\n",
      "2    2\n",
      "3    3\n",
      "4    3\n",
      "5    2\n",
      "6    3\n",
      "7    4\n",
      "Name: PQ_SEN5_enc, dtype: int8\n",
      "0    4\n",
      "1    3\n",
      "2    3\n",
      "3    3\n",
      "4    3\n",
      "5    1\n",
      "6    3\n",
      "7    4\n",
      "Name: PQ_SEN5_enc, dtype: int8\n"
     ]
    },
    {
     "data": {
      "image/png": "[encoded data removed]",
      "text/plain": [
       "<Figure size 432x288 with 1 Axes>"
      ]
     },
     "metadata": {},
     "output_type": "display_data"
    },
    {
     "name": "stdout",
     "output_type": "stream",
     "text": [
      "Ich konnte Objekte gut von verschiedenen Perspektiven anschauen.\n",
      "PQ_SEN6_enc\n",
      "0    3\n",
      "1    4\n",
      "2    2\n",
      "3    3\n",
      "4    4\n",
      "5    2\n",
      "6    4\n",
      "7    2\n",
      "Name: PQ_SEN6_enc, dtype: int8\n",
      "0    4\n",
      "1    4\n",
      "2    3\n",
      "3    3\n",
      "4    4\n",
      "5    1\n",
      "6    4\n",
      "7    3\n",
      "Name: PQ_SEN6_enc, dtype: int8\n"
     ]
    },
    {
     "data": {
      "image/png": "[encoded data removed]",
      "text/plain": [
       "<Figure size 432x288 with 1 Axes>"
      ]
     },
     "metadata": {},
     "output_type": "display_data"
    },
    {
     "name": "stdout",
     "output_type": "stream",
     "text": [
      "Ich konnte gut vorhersagen was die Reaktionen auf meine Aktionen sind.\n",
      "PQ_IMM1_enc\n",
      "0    1\n",
      "1    0\n",
      "2    2\n",
      "3    3\n",
      "4    4\n",
      "5    2\n",
      "6    3\n",
      "7    4\n",
      "Name: PQ_IMM1_enc, dtype: int8\n",
      "0    2\n",
      "1    2\n",
      "2    3\n",
      "3    3\n",
      "4    2\n",
      "5    1\n",
      "6    3\n",
      "7    2\n",
      "Name: PQ_IMM1_enc, dtype: int8\n"
     ]
    },
    {
     "data": {
      "image/png": "[encoded data removed]",
      "text/plain": [
       "<Figure size 432x288 with 1 Axes>"
      ]
     },
     "metadata": {},
     "output_type": "display_data"
    },
    {
     "name": "stdout",
     "output_type": "stream",
     "text": [
      "Ich konnte mich sehr schnell an die virtuelle Umgebung gewöhnen.\n",
      "PQ_IMM2_enc\n",
      "0    0\n",
      "1    3\n",
      "2    3\n",
      "3    3\n",
      "4    4\n",
      "5    3\n",
      "6    4\n",
      "7    4\n",
      "Name: PQ_IMM2_enc, dtype: int8\n",
      "0    3\n",
      "1    3\n",
      "2    3\n",
      "3    3\n",
      "4    3\n",
      "5    2\n",
      "6    4\n",
      "7    4\n",
      "Name: PQ_IMM2_enc, dtype: int8\n"
     ]
    },
    {
     "data": {
      "image/png": "[encoded data removed]",
      "text/plain": [
       "<Figure size 432x288 with 1 Axes>"
      ]
     },
     "metadata": {},
     "output_type": "display_data"
    },
    {
     "name": "stdout",
     "output_type": "stream",
     "text": [
      "Zum Ende des Spiels hatte ich das Gefühl mit der virtuellen Umgebung kompetent interagieren zu können.\n",
      "PQ_IMM3_enc\n",
      "0    2\n",
      "1    3\n",
      "2    2\n",
      "3    3\n",
      "4    4\n",
      "5    2\n",
      "6    2\n",
      "7    4\n",
      "Name: PQ_IMM3_enc, dtype: int8\n",
      "0    4\n",
      "1    3\n",
      "2    3\n",
      "3    3\n",
      "4    3\n",
      "5    0\n",
      "6    3\n",
      "7    2\n",
      "Name: PQ_IMM3_enc, dtype: int8\n"
     ]
    },
    {
     "data": {
      "image/png": "[encoded data removed]",
      "text/plain": [
       "<Figure size 432x288 with 1 Axes>"
      ]
     },
     "metadata": {},
     "output_type": "display_data"
    },
    {
     "name": "stdout",
     "output_type": "stream",
     "text": [
      "Ich konnte mich gut auf die Aufgaben das Spiel zu lösen konzentrieren ohne stark auf die Mechanismen um die Aufgaben zu lösen achten zu müssen.\n",
      "PQ_IMM4_enc\n",
      "0    2\n",
      "1    4\n",
      "2    3\n",
      "3    3\n",
      "4    4\n",
      "5    3\n",
      "6    0\n",
      "7    4\n",
      "Name: PQ_IMM4_enc, dtype: int8\n",
      "0    4\n",
      "1    4\n",
      "2    3\n",
      "3    3\n",
      "4    4\n",
      "5    2\n",
      "6    4\n",
      "7    2\n",
      "Name: PQ_IMM4_enc, dtype: int8\n"
     ]
    },
    {
     "data": {
      "image/png": "[encoded data removed]",
      "text/plain": [
       "<Figure size 432x288 with 1 Axes>"
      ]
     },
     "metadata": {},
     "output_type": "display_data"
    },
    {
     "name": "stdout",
     "output_type": "stream",
     "text": [
      "Meine Sinne waren Stark in das Spiel einbezogen.\n",
      "PQ_IMM5_enc\n",
      "0    4\n",
      "1    2\n",
      "2    3\n",
      "3    3\n",
      "4    3\n",
      "5    3\n",
      "6    2\n",
      "7    4\n",
      "Name: PQ_IMM5_enc, dtype: int8\n",
      "0    4\n",
      "1    2\n",
      "2    3\n",
      "3    3\n",
      "4    2\n",
      "5    3\n",
      "6    2\n",
      "7    3\n",
      "Name: PQ_IMM5_enc, dtype: int8\n"
     ]
    },
    {
     "data": {
      "image/png": "[encoded data removed]",
      "text/plain": [
       "<Figure size 432x288 with 1 Axes>"
      ]
     },
     "metadata": {},
     "output_type": "display_data"
    },
    {
     "name": "stdout",
     "output_type": "stream",
     "text": [
      "Es gab Momente in denen ich vollständig im Spiel eintauchen konnte.\n",
      "PQ_IMM6_enc\n",
      "0    4\n",
      "1    3\n",
      "2    2\n",
      "3    3\n",
      "4    3\n",
      "5    3\n",
      "6   -1\n",
      "7    4\n",
      "Name: PQ_IMM6_enc, dtype: int8\n",
      "0    4\n",
      "1    3\n",
      "2    3\n",
      "3    3\n",
      "4    2\n",
      "5    3\n",
      "6   -1\n",
      "7    3\n",
      "Name: PQ_IMM6_enc, dtype: int8\n"
     ]
    },
    {
     "data": {
      "image/png": "[encoded data removed]",
      "text/plain": [
       "<Figure size 432x288 with 1 Axes>"
      ]
     },
     "metadata": {},
     "output_type": "display_data"
    },
    {
     "name": "stdout",
     "output_type": "stream",
     "text": [
      "Ich konnte mich leicht an die Geräte involviert im Spiel gewöhnen.\n",
      "PQ_IMM7_enc\n",
      "0    4\n",
      "1    3\n",
      "2    3\n",
      "3    3\n",
      "4    4\n",
      "5    3\n",
      "6    3\n",
      "7    4\n",
      "Name: PQ_IMM7_enc, dtype: int8\n",
      "0    3\n",
      "1    3\n",
      "2    3\n",
      "3    3\n",
      "4    3\n",
      "5    0\n",
      "6    4\n",
      "7    3\n",
      "Name: PQ_IMM7_enc, dtype: int8\n"
     ]
    },
    {
     "data": {
      "image/png": "[encoded data removed]",
      "text/plain": [
       "<Figure size 432x288 with 1 Axes>"
      ]
     },
     "metadata": {},
     "output_type": "display_data"
    },
    {
     "name": "stdout",
     "output_type": "stream",
     "text": [
      "Für mich waren die Informationen die meine verschiedenen Sinne wahrgenommen haben konsistent.\n",
      "PQ_IMM8_enc\n",
      "0    3\n",
      "1    1\n",
      "2    3\n",
      "3    3\n",
      "4    3\n",
      "5    2\n",
      "6    2\n",
      "7    3\n",
      "Name: PQ_IMM8_enc, dtype: int8\n",
      "0    2\n",
      "1    1\n",
      "2    2\n",
      "3    3\n",
      "4    3\n",
      "5    2\n",
      "6    1\n",
      "7    0\n",
      "Name: PQ_IMM8_enc, dtype: int8\n"
     ]
    },
    {
     "data": {
      "image/png": "[encoded data removed]",
      "text/plain": [
       "<Figure size 432x288 with 1 Axes>"
      ]
     },
     "metadata": {},
     "output_type": "display_data"
    },
    {
     "name": "stdout",
     "output_type": "stream",
     "text": [
      "Die Verzögerung zwischen meinen Aktionen und erwarteten Ergebnis waren angemessen.\n",
      "PQ_INT1_enc\n",
      "0    1\n",
      "1    3\n",
      "2    2\n",
      "3    3\n",
      "4    2\n",
      "5    2\n",
      "6    2\n",
      "7    3\n",
      "Name: PQ_INT1_enc, dtype: int8\n",
      "0    2\n",
      "1    4\n",
      "2    1\n",
      "3    3\n",
      "4    3\n",
      "5    1\n",
      "6    3\n",
      "7    1\n",
      "Name: PQ_INT1_enc, dtype: int8\n"
     ]
    },
    {
     "data": {
      "image/png": "[encoded data removed]",
      "text/plain": [
       "<Figure size 432x288 with 1 Axes>"
      ]
     },
     "metadata": {},
     "output_type": "display_data"
    },
    {
     "name": "stdout",
     "output_type": "stream",
     "text": [
      "Die Qualität der optischen Anzeige hat mich daran gehindert im Spiel einzutauchen.\n",
      "PQ_INT2_enc\n",
      "0    2\n",
      "1   -2\n",
      "2    1\n",
      "3   -1\n",
      "4    0\n",
      "5   -2\n",
      "6   -2\n",
      "7   -2\n",
      "Name: PQ_INT2_enc, dtype: int8\n",
      "0   -1\n",
      "1   -2\n",
      "2    2\n",
      "3   -1\n",
      "4    0\n",
      "5   -1\n",
      "6   -1\n",
      "7   -1\n",
      "Name: PQ_INT2_enc, dtype: int8\n"
     ]
    },
    {
     "data": {
      "image/png": "[encoded data removed]",
      "text/plain": [
       "<Figure size 432x288 with 1 Axes>"
      ]
     },
     "metadata": {},
     "output_type": "display_data"
    },
    {
     "name": "stdout",
     "output_type": "stream",
     "text": [
      "Die Geräte die ich benutzt habe, haben mich abgelenkt.\n",
      "PQ_INT3_enc\n",
      "0    2\n",
      "1   -2\n",
      "2   -1\n",
      "3   -1\n",
      "4   -2\n",
      "5   -2\n",
      "6    0\n",
      "7   -2\n",
      "Name: PQ_INT3_enc, dtype: int8\n",
      "0   -2\n",
      "1   -2\n",
      "2    1\n",
      "3   -1\n",
      "4   -2\n",
      "5   -1\n",
      "6   -2\n",
      "7   -2\n",
      "Name: PQ_INT3_enc, dtype: int8\n"
     ]
    },
    {
     "data": {
      "image/png": "[encoded data removed]",
      "text/plain": [
       "<Figure size 432x288 with 1 Axes>"
      ]
     },
     "metadata": {},
     "output_type": "display_data"
    }
   ],
   "source": [
    "for index, column in enumerate(pq_encoded):\n",
    "    print(pq_questions[index])\n",
    "    print(column)\n",
    "    print(haptic_presence_data_frame[column])\n",
    "    print(visual_presence_data_frame[column])\n",
    "    width = 0.35\n",
    "    # Creating plot\n",
    "    plt.boxplot(haptic_presence_data_frame[column], widths=width, labels=['haptic'])\n",
    "\n",
    "    plt.boxplot(visual_presence_data_frame[column], widths=width, positions=[width], labels=['visual'])\n",
    "\n",
    "    plt.ylabel('score')\n",
    "    # show plot\n",
    "    plt.show()  "
   ]
  },
  {
   "cell_type": "code",
   "execution_count": 80,
   "metadata": {},
   "outputs": [
    {
     "name": "stderr",
     "output_type": "stream",
     "text": [
      "C:\\Users\\Malte\\anaconda3\\envs\\game-study\\lib\\site-packages\\scipy\\stats\\morestats.py:3141: UserWarning: Exact p-value calculation does not work if there are ties. Switching to normal approximation.\n",
      "  warnings.warn(\"Exact p-value calculation does not work if there are \"\n",
      "C:\\Users\\Malte\\anaconda3\\envs\\game-study\\lib\\site-packages\\scipy\\stats\\morestats.py:3155: UserWarning: Sample size too small for normal approximation.\n",
      "  warnings.warn(\"Sample size too small for normal approximation.\")\n"
     ]
    },
    {
     "data": {
      "text/plain": [
       "WilcoxonResult(statistic=0.0, pvalue=0.05878172135535886)"
      ]
     },
     "execution_count": 80,
     "metadata": {},
     "output_type": "execute_result"
    }
   ],
   "source": [
    "wilcoxon(haptic_presence_data_frame['PQ_IMM8_enc'], visual_presence_data_frame['PQ_IMM8_enc'])"
   ]
  },
  {
   "cell_type": "code",
   "execution_count": 81,
   "metadata": {},
   "outputs": [
    {
     "name": "stdout",
     "output_type": "stream",
     "text": [
      "   ID       Start time  Completion time      Email  Name  Id des Teilnehmers  \\\n",
      "0   1   8/3/21 0:44:17   8/3/21 1:15:07  anonymous   NaN                   1   \n",
      "1   4   8/3/21 6:36:59   8/3/21 6:46:36  anonymous   NaN                   2   \n",
      "2   5   8/3/21 6:48:21   8/3/21 7:15:04  anonymous   NaN                   3   \n",
      "3   8   8/3/21 9:23:19   8/3/21 9:34:09  anonymous   NaN                   4   \n",
      "4   9  8/3/21 10:14:36  8/3/21 10:54:38  anonymous   NaN                   5   \n",
      "5  12  8/3/21 11:33:02  8/3/21 11:43:42  anonymous   NaN                   6   \n",
      "6  13   8/4/21 9:55:13  8/4/21 10:38:32  anonymous   NaN                   7   \n",
      "7  16  8/4/21 22:47:48  8/4/21 23:03:42  anonymous   NaN                   8   \n",
      "\n",
      "  Spieltyp auf den sich dieser Fragebogen bezieht.     Dauer  \\\n",
      "0                                       Mit Haptik   4:43.96   \n",
      "1                                       Mit Haptik   1:04.34   \n",
      "2                                       Mit Haptik   1:02.34   \n",
      "3                                       Mit Haptik   0:44.55   \n",
      "4                                       Mit Haptik   2:01.25   \n",
      "5                                       Mit Haptik   0:45.04   \n",
      "6                                       Mit Haptik   1:25.93   \n",
      "7                                       Mit Haptik  00:39.18   \n",
      "\n",
      "  In der computererzeugten Welt hatte ich den Eindruck, dort gewesen zu sein...  \\\n",
      "0                                         sehr stark                              \n",
      "1                                              etwas                              \n",
      "2                                              etwas                              \n",
      "3                                              etwas                              \n",
      "4                                         sehr stark                              \n",
      "5                                         sehr stark                              \n",
      "6                                              etwas                              \n",
      "7                                         sehr stark                              \n",
      "\n",
      "  Ich hatte das Gefühl, daß die virtuelle Umgebung hinter mir weitergeht.  \\\n",
      "0                               trifft eher nicht zu                        \n",
      "1                               trifft eher nicht zu                        \n",
      "2                               trifft eher nicht zu                        \n",
      "3                                        teils-teils                        \n",
      "4                                     trifft eher zu                        \n",
      "5                                        teils-teils                        \n",
      "6                                trifft gar nicht zu                        \n",
      "7                               trifft eher nicht zu                        \n",
      "\n",
      "   ... PQ_IMM6_enc PQ_IMM7_enc PQ_IMM8_enc PQ_INT1_enc PQ_INT2_enc  \\\n",
      "0  ...           4           4           3           1           2   \n",
      "1  ...           3           3           1           3          -2   \n",
      "2  ...           2           3           3           2           1   \n",
      "3  ...           3           3           3           3          -1   \n",
      "4  ...           3           4           3           2           0   \n",
      "5  ...           3           3           2           2          -2   \n",
      "6  ...          -1           3           2           2          -2   \n",
      "7  ...           4           4           3           3          -2   \n",
      "\n",
      "  PQ_INT3_enc PQ_score haptic_treatment_order treatment haptic_sus_score  \n",
      "0           2       51                     hf         h             60.0  \n",
      "1          -2       51                     vf         h             92.5  \n",
      "2          -1       64                     hf         h             77.5  \n",
      "3          -1       67                     vf         h             75.0  \n",
      "4          -2       76                     hf         h             92.5  \n",
      "5          -2       62                     vf         h             87.5  \n",
      "6           0       39                     hf         h             85.0  \n",
      "7          -2       82                     vf         h             92.5  \n",
      "\n",
      "[8 rows x 123 columns]\n",
      "0    1\n",
      "1   -1\n",
      "2    1\n",
      "3    2\n",
      "4    3\n",
      "5    0\n",
      "6    2\n",
      "7    0\n",
      "Name: PQ_SEN4_enc, dtype: int8\n",
      "0    3\n",
      "1    3\n",
      "2    2\n",
      "3    3\n",
      "4    3\n",
      "5    3\n",
      "6   -1\n",
      "7    3\n",
      "Name: PQ_SEN4_enc, dtype: int8\n"
     ]
    },
    {
     "name": "stderr",
     "output_type": "stream",
     "text": [
      "C:\\Users\\Malte\\anaconda3\\envs\\game-study\\lib\\site-packages\\scipy\\stats\\morestats.py:3141: UserWarning: Exact p-value calculation does not work if there are ties. Switching to normal approximation.\n",
      "  warnings.warn(\"Exact p-value calculation does not work if there are \"\n",
      "C:\\Users\\Malte\\anaconda3\\envs\\game-study\\lib\\site-packages\\scipy\\stats\\morestats.py:3155: UserWarning: Sample size too small for normal approximation.\n",
      "  warnings.warn(\"Sample size too small for normal approximation.\")\n"
     ]
    },
    {
     "data": {
      "text/plain": [
       "WilcoxonResult(statistic=5.0, pvalue=0.1247727360437228)"
      ]
     },
     "execution_count": 81,
     "metadata": {},
     "output_type": "execute_result"
    }
   ],
   "source": [
    "print(haptic_presence_data_frame)\n",
    "#haptic_presence_data_frame = haptic_presence_data_frame.drop(6,axis=\"index\") \n",
    "#haptic_presence_data_frame = haptic_presence_data_frame.drop(2,axis=\"index\") \n",
    "\n",
    "\n",
    "#visual_presence_data_frame = visual_presence_data_frame.drop(6,axis=\"index\") \n",
    "#visual_presence_data_frame = visual_presence_data_frame.drop(2,axis=\"index\") \n",
    "print(visual_presence_data_frame['PQ_SEN4_enc'])\n",
    "print(haptic_presence_data_frame['PQ_SEN4_enc'])\n",
    "wilcoxon(haptic_presence_data_frame['PQ_SEN4_enc'], visual_presence_data_frame['PQ_SEN4_enc'])"
   ]
  },
  {
   "cell_type": "code",
   "execution_count": 82,
   "metadata": {},
   "outputs": [
    {
     "data": {
      "text/plain": [
       "WilcoxonResult(statistic=3.0, pvalue=0.4496917979688909)"
      ]
     },
     "execution_count": 82,
     "metadata": {},
     "output_type": "execute_result"
    }
   ],
   "source": [
    "wilcoxon(haptic_presence_data_frame['PQ_INV3_enc'], visual_presence_data_frame['PQ_INV3_enc'])"
   ]
  }
 ],
 "metadata": {
  "interpreter": {
   "hash": "d9d8773375c34bc59fa11cb05bf413bc4169a90c46e58e92f9ae41e72c0ae09c"
  },
  "kernelspec": {
   "display_name": "Python 3.8.8 64-bit ('base': conda)",
   "name": "python3"
  },
  "language_info": {
   "codemirror_mode": {
    "name": "ipython",
    "version": 3
   },
   "file_extension": ".py",
   "mimetype": "text/x-python",
   "name": "python",
   "nbconvert_exporter": "python",
   "pygments_lexer": "ipython3",
   "version": "3.8.8"
  },
  "orig_nbformat": 4
 },
 "nbformat": 4,
 "nbformat_minor": 2
}
